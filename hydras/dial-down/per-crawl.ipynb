{
 "cells": [
  {
   "cell_type": "markdown",
   "id": "916acc5f",
   "metadata": {},
   "source": [
    "# Getting data from the crawler"
   ]
  },
  {
   "cell_type": "code",
   "execution_count": 179,
   "id": "31363bba",
   "metadata": {},
   "outputs": [],
   "source": [
    "import psycopg2"
   ]
  },
  {
   "cell_type": "code",
   "execution_count": 180,
   "id": "63d627a7",
   "metadata": {},
   "outputs": [],
   "source": [
    "db_info = \"host=127.0.0.1 dbname=nebula user=nebula password=password\""
   ]
  },
  {
   "cell_type": "code",
   "execution_count": 181,
   "id": "e9a3a291",
   "metadata": {},
   "outputs": [],
   "source": [
    "peerids_filename = \"data/peerids.csv\""
   ]
  },
  {
   "cell_type": "markdown",
   "id": "bfb6d411",
   "metadata": {},
   "source": [
    "## Crawls to analyse"
   ]
  },
  {
   "cell_type": "code",
   "execution_count": 182,
   "id": "aebe509a",
   "metadata": {},
   "outputs": [],
   "source": [
    "crawl_filename = \"data/crawl-0-1.csv\""
   ]
  },
  {
   "cell_type": "code",
   "execution_count": 183,
   "id": "f26602cb",
   "metadata": {},
   "outputs": [],
   "source": [
    "conn = psycopg2.connect(db_info)\n",
    "cur = conn.cursor()"
   ]
  },
  {
   "cell_type": "code",
   "execution_count": 184,
   "id": "abf33464",
   "metadata": {},
   "outputs": [],
   "source": [
    "def update_peerids():\n",
    "    cur.execute(\"select id,multi_hash from peers;\")\n",
    "    peerids = {x[0]:x[1] for x in cur.fetchall()} # nebulaID -> peerID\n",
    "    \n",
    "    print(peerids[21])\n",
    "    \n",
    "    to_add = []\n",
    "    with open(peerids_filename, 'r') as f:\n",
    "        # read existing mappings\n",
    "        lines = f.readlines()\n",
    "        # get the nebula IDs only\n",
    "        nebIDs = [int(line.split(',')[0]) for line in lines]\n",
    "        \n",
    "        for p in peerids:\n",
    "            # find missing peers\n",
    "            if p not in nebIDs:\n",
    "                # add them to to_add\n",
    "                to_add.append(str(p)+','+peerids[p]+'\\n')\n",
    "                                    \n",
    "    with open(peerids_filename, 'a') as f:\n",
    "        f.writelines(to_add)"
   ]
  },
  {
   "cell_type": "code",
   "execution_count": 185,
   "id": "7738e5da",
   "metadata": {},
   "outputs": [],
   "source": [
    "def get_crawl_ids():\n",
    "    cur.execute(\"select id from crawls;\")\n",
    "    return [c[0] for c in cur.fetchall()]"
   ]
  },
  {
   "cell_type": "code",
   "execution_count": 186,
   "id": "e9151af1",
   "metadata": {},
   "outputs": [],
   "source": [
    "def store_crawls_in_csv(crawl_ids, filename):\n",
    "    nebula_peers = []\n",
    "    for n in crawl_ids:\n",
    "        cur.execute(\"select peer_id,neighbor_ids from neighbors where crawl_id=\"+str(n)+\";\")\n",
    "        neighbors_rel = cur.fetchall()\n",
    "        nebula_peers += [[n, nebula_id, peerids[nebula_id]] + (neighbors if neighbors is not None else []) for (nebula_id, neighbors) in neighbors_rel]\n",
    "        \n",
    "    #with open(filename, 'w'):\n",
    "    f = open(filename, 'w')\n",
    "    writer = csv.writer(f)\n",
    "    writer.writerows(nebula_peers)\n",
    "        \n",
    "    f.close()"
   ]
  },
  {
   "cell_type": "code",
   "execution_count": 187,
   "id": "3be1247a",
   "metadata": {},
   "outputs": [],
   "source": [
    "def store_crawl_in_csv(crawl_id, filename):\n",
    "    cur.execute(\"select peer_id,neighbor_ids from neighbors where crawl_id=\"+str(crawl_id)+\";\")\n",
    "    neighbors_rel = cur.fetchall()\n",
    "    \n",
    "    nebula_peers = []\n",
    "    for (nebula_id, neighbors) in neighbors_rel:\n",
    "        s = str(nebula_id) + ','\n",
    "        for n in neighbors:\n",
    "            s += str(n) + ','\n",
    "        s = s[:-1] + '\\n'\n",
    "        nebula_peers.append(s)\n",
    "    #nebula_peers = [str(nebula_id)+','+peerids[nebula_id] + (neighbors if neighbors is not None else []) for (nebula_id, neighbors) in neighbors_rel]\n",
    "        \n",
    "    #with open(filename, 'w'):\n",
    "    f = open(filename, 'w')\n",
    "    f.writelines(nebula_peers)\n",
    "    f.close()"
   ]
  },
  {
   "cell_type": "code",
   "execution_count": 189,
   "id": "91f992e1",
   "metadata": {},
   "outputs": [
    {
     "name": "stdout",
     "output_type": "stream",
     "text": [
      "12D3KooWPjQRKNJnupa1zTsqfRsFn3zkfDB4JJQQazn7H4UNkQp4\n"
     ]
    }
   ],
   "source": [
    "update_peerids()"
   ]
  },
  {
   "cell_type": "code",
   "execution_count": 190,
   "id": "9ea7ffc0",
   "metadata": {},
   "outputs": [
    {
     "data": {
      "text/plain": [
       "[1]"
      ]
     },
     "execution_count": 190,
     "metadata": {},
     "output_type": "execute_result"
    }
   ],
   "source": [
    "get_crawl_ids()"
   ]
  },
  {
   "cell_type": "code",
   "execution_count": 191,
   "id": "df14297f",
   "metadata": {},
   "outputs": [],
   "source": [
    "store_crawl_in_csv(1, crawl_filename)"
   ]
  },
  {
   "cell_type": "markdown",
   "id": "f636571a",
   "metadata": {},
   "source": [
    "# Helpers"
   ]
  },
  {
   "cell_type": "code",
   "execution_count": 192,
   "id": "2302dc50",
   "metadata": {},
   "outputs": [],
   "source": [
    "import multihash as mh\n",
    "import hashlib as hl\n",
    "from binary_trie import Trie, bytes_to_bitstring, int_to_bitstring"
   ]
  },
  {
   "cell_type": "code",
   "execution_count": 193,
   "id": "74489186",
   "metadata": {},
   "outputs": [],
   "source": [
    "# turn a peer_id (e.g 12D3KooWEZXjE41uU4EL2gpkAQeDXYok6wghN7wwNVPF5bwkaNfS) to its\n",
    "# sha256 hash representation (256 bits), used as kademlia identifier\n",
    "def multihash_to_kad_id(peer_id: str) -> bytes:  \n",
    "    multi_hash = mh.from_b58_string(peer_id)\n",
    "    return hl.sha256(multi_hash).digest()\n",
    "\n",
    "# XOR two bitstring of equal size, the size doesn't need to be a multiple of 8\n",
    "def xor_bitstring(bs0: str, bs1: str) -> str:\n",
    "    s = \"\"\n",
    "    if len(bs0) == len(bs1):\n",
    "        for i in range(len(bs0)):\n",
    "            if bs0[i]==bs1[i]:\n",
    "                s+='0'\n",
    "            else:\n",
    "                s+='1'\n",
    "    return s\n",
    "\n",
    "# returns the XOR distance (in bytes) between the two provided bytes arrays\n",
    "def xor_distance(bytes0: bytes, bytes1: bytes):\n",
    "    xor=bytearray()\n",
    "    maxlen=max(len(bytes0), len(bytes1))\n",
    "\n",
    "    for i in range(maxlen):\n",
    "        byte0 = bytes0[i if len(bytes0)>len(bytes1) else i-len(bytes1)+len(bytes0)] if i >= maxlen-len(bytes0) else 0\n",
    "        byte1 = bytes1[i if len(bytes1)>len(bytes0) else i-len(bytes0)+len(bytes1)] if i >= maxlen-len(bytes1) else 0\n",
    "        xor.append(byte0 ^ byte1)\n",
    "\n",
    "    return bytes(xor)\n",
    "\n",
    "# get the corresponding k-bucket for the given XOR distance in bytes\n",
    "def bucket_number_for_distance(d: bytes) -> int:\n",
    "    count=0\n",
    "    # iterate on the bytes from left to right\n",
    "    for b in d:\n",
    "        # while the byte==0, add 8 (bits) to the counter\n",
    "        count+=8\n",
    "        if b!=0:\n",
    "            # at the first non null byte, shift right until this byte==0\n",
    "            while b!=0:\n",
    "                b>>=1\n",
    "                # for each right shift, remove 1 to counter\n",
    "                count-=1\n",
    "            break\n",
    "    # return the length of the byte string minus the number of leading 0 bits\n",
    "    return 256-(8*len(d)-count)\n"
   ]
  },
  {
   "cell_type": "code",
   "execution_count": 194,
   "id": "98dd3841",
   "metadata": {},
   "outputs": [],
   "source": [
    "class NebulaPeer:\n",
    "    def __init__(self, nebula_id, peer_id, neighbors_ids):\n",
    "        self.nebula_id = nebula_id\n",
    "        self.peer_id = peer_id\n",
    "        self.neighbors_ids = neighbors_ids\n",
    "        \n",
    "        self.key = multihash_to_kad_id(peer_id)\n",
    "        \n",
    "        self.alive = len(neighbors_ids)>0\n",
    "        \n",
    "        self.buckets = [[] for _ in range(257)]\n",
    "        self.neighbors = {}\n",
    "        \n",
    "    def distance(self, p):\n",
    "        return xor_distance(self.key, p.key)\n",
    "        \n",
    "    def addNeighbor(self, peer):\n",
    "        if bytes_to_bitstring(peer.key) not in self.neighbors:\n",
    "            self.neighbors[bytes_to_bitstring(peer.key)] = peer\n",
    "            self.buckets[bucket_number_for_distance(self.distance(peer))].append(peer)\n",
    "        \n",
    "    def __str__(self):\n",
    "        return \"nebula_id: \"+str(self.nebula_id)+\", peer_id: \"+str(self.peer_id)+\", neighbors: \"+str(self.neighbors_ids)\n"
   ]
  },
  {
   "cell_type": "markdown",
   "id": "71a4feb3",
   "metadata": {},
   "source": [
    "# Analysis"
   ]
  },
  {
   "cell_type": "markdown",
   "id": "7bfc7b5a",
   "metadata": {},
   "source": [
    "## Loading data"
   ]
  },
  {
   "cell_type": "code",
   "execution_count": 195,
   "id": "084b3f2c",
   "metadata": {},
   "outputs": [],
   "source": [
    "# load nebulaID -> peerID map\n",
    "with open(peerids_filename, 'r') as file:\n",
    "    nebulaid_peerid = {line.split(',')[0]:line.split(',')[1][:-1] for line in file.readlines()}\n",
    "    # [:-1] removes the trailing '\\n'"
   ]
  },
  {
   "cell_type": "code",
   "execution_count": 196,
   "id": "99fcf465",
   "metadata": {},
   "outputs": [],
   "source": [
    "# load neighbors\n",
    "with open(crawl_filename, 'r') as file:\n",
    "    neighbors_nebula = {line.split(',')[0]:line.split(',')[1:][:-1] for line in file.readlines()}\n",
    "    # [:-1] removes the trailing '\\n'"
   ]
  },
  {
   "cell_type": "code",
   "execution_count": 197,
   "id": "49068980",
   "metadata": {},
   "outputs": [
    {
     "name": "stdout",
     "output_type": "stream",
     "text": [
      "12D3KooWPjQRKNJnupa1zTsqfRsFn3zkfDB4JJQQazn7H4UNkQp4\n"
     ]
    }
   ],
   "source": [
    "print(nebulaid_peerid['21'])"
   ]
  },
  {
   "cell_type": "markdown",
   "id": "ba305001",
   "metadata": {},
   "source": [
    "## Building data structures"
   ]
  },
  {
   "cell_type": "code",
   "execution_count": 198,
   "id": "2f3c0f46",
   "metadata": {},
   "outputs": [],
   "source": [
    "# build all peers\n",
    "peers = [NebulaPeer(n, nebulaid_peerid[n], neighbors_nebula[n]) for n in neighbors_nebula]"
   ]
  },
  {
   "cell_type": "code",
   "execution_count": 199,
   "id": "2df8d0a4",
   "metadata": {},
   "outputs": [],
   "source": [
    "# make a map for easy access nebulaID -> NebulaPeer\n",
    "peers_map = {p.nebula_id:p for p in peers}"
   ]
  },
  {
   "cell_type": "code",
   "execution_count": 200,
   "id": "ea8dc158",
   "metadata": {},
   "outputs": [],
   "source": [
    "new_peers = {}\n",
    "for p in peers:\n",
    "    for n in p.neighbors_ids:\n",
    "        if n not in peers_map and n not in new_peers:\n",
    "            np = NebulaPeer(n, nebulaid_peerid[n], [])\n",
    "            new_peers[n] = np\n",
    "            p.addNeighbor(np)\n",
    "        elif n in new_peers:\n",
    "            p.addNeighbor(new_peers[n])\n",
    "        else:\n",
    "            p.addNeighbor(peers_map[n])"
   ]
  },
  {
   "cell_type": "code",
   "execution_count": 201,
   "id": "a178cbdf",
   "metadata": {},
   "outputs": [],
   "source": [
    "all_peers = []\n",
    "for i in new_peers:\n",
    "    all_peers.append(new_peers[i])\n",
    "for p in peers:\n",
    "    all_peers.append(p)"
   ]
  },
  {
   "cell_type": "code",
   "execution_count": 202,
   "id": "13599606",
   "metadata": {},
   "outputs": [],
   "source": [
    "t = Trie()\n",
    "for p in peers:\n",
    "    t.add(bytes_to_bitstring(p.key), metadata=p)"
   ]
  },
  {
   "cell_type": "code",
   "execution_count": 203,
   "id": "e14d4d0a",
   "metadata": {},
   "outputs": [
    {
     "data": {
      "text/plain": [
       "10193"
      ]
     },
     "execution_count": 203,
     "metadata": {},
     "output_type": "execute_result"
    }
   ],
   "source": [
    "t.size"
   ]
  },
  {
   "cell_type": "markdown",
   "id": "9c0dbd22",
   "metadata": {},
   "source": [
    "## Analysis"
   ]
  },
  {
   "cell_type": "code",
   "execution_count": 204,
   "id": "e960f39d",
   "metadata": {},
   "outputs": [
    {
     "name": "stdout",
     "output_type": "stream",
     "text": [
      "21\n",
      "19\n"
     ]
    },
    {
     "ename": "KeyError",
     "evalue": "'0110001111010011101011101100100010011110111011100010001010001110000100010000010101111000100001101000100110110110100000100110110111100010000010111011111101010111000010100111000111100010000101110111010010111110011100101000010101011111100010100101011000011101'",
     "output_type": "error",
     "traceback": [
      "\u001b[0;31m---------------------------------------------------------------------------\u001b[0m",
      "\u001b[0;31mKeyError\u001b[0m                                  Traceback (most recent call last)",
      "Input \u001b[0;32mIn [204]\u001b[0m, in \u001b[0;36m<cell line: 3>\u001b[0;34m()\u001b[0m\n\u001b[1;32m      1\u001b[0m \u001b[38;5;28mprint\u001b[39m(peers[\u001b[38;5;241m0\u001b[39m]\u001b[38;5;241m.\u001b[39mnebula_id)\n\u001b[1;32m      2\u001b[0m \u001b[38;5;28mprint\u001b[39m(\u001b[38;5;28mlen\u001b[39m(peers[\u001b[38;5;241m0\u001b[39m]\u001b[38;5;241m.\u001b[39mbuckets[\u001b[38;5;241m7\u001b[39m]))\n\u001b[0;32m----> 3\u001b[0m \u001b[38;5;28mprint\u001b[39m(\u001b[43mpeers\u001b[49m\u001b[43m[\u001b[49m\u001b[38;5;241;43m0\u001b[39;49m\u001b[43m]\u001b[49m\u001b[38;5;241;43m.\u001b[39;49m\u001b[43mneighbors\u001b[49m\u001b[43m[\u001b[49m\u001b[38;5;124;43m'\u001b[39;49m\u001b[38;5;124;43m0110001111010011101011101100100010011110111011100010001010001110000100010000010101111000100001101000100110110110100000100110110111100010000010111011111101010111000010100111000111100010000101110111010010111110011100101000010101011111100010100101011000011101\u001b[39;49m\u001b[38;5;124;43m'\u001b[39;49m\u001b[43m]\u001b[49m\u001b[38;5;241m.\u001b[39mnebula_id)\n\u001b[1;32m      4\u001b[0m p7 \u001b[38;5;241m=\u001b[39m peers[\u001b[38;5;241m0\u001b[39m]\u001b[38;5;241m.\u001b[39mneighbors[\u001b[38;5;124m'\u001b[39m\u001b[38;5;124m0110001111010011101011101100100010011110111011100010001010001110000100010000010101111000100001101000100110110110100000100110110111100010000010111011111101010111000010100111000111100010000101110111010010111110011100101000010101011111100010100101011000011101\u001b[39m\u001b[38;5;124m'\u001b[39m]\n\u001b[1;32m      6\u001b[0m dist \u001b[38;5;241m=\u001b[39m p7\u001b[38;5;241m.\u001b[39mdistance(peers[\u001b[38;5;241m0\u001b[39m])\n",
      "\u001b[0;31mKeyError\u001b[0m: '0110001111010011101011101100100010011110111011100010001010001110000100010000010101111000100001101000100110110110100000100110110111100010000010111011111101010111000010100111000111100010000101110111010010111110011100101000010101011111100010100101011000011101'"
     ]
    }
   ],
   "source": [
    "print(peers[0].nebula_id)\n",
    "print(len(peers[0].buckets[7]))\n",
    "print(peers[0].neighbors['0110001111010011101011101100100010011110111011100010001010001110000100010000010101111000100001101000100110110110100000100110110111100010000010111011111101010111000010100111000111100010000101110111010010111110011100101000010101011111100010100101011000011101'].nebula_id)\n",
    "p7 = peers[0].neighbors['0110001111010011101011101100100010011110111011100010001010001110000100010000010101111000100001101000100110110110100000100110110111100010000010111011111101010111000010100111000111100010000101110111010010111110011100101000010101011111100010100101011000011101']\n",
    "\n",
    "dist = p7.distance(peers[0])\n",
    "print(bytes_to_bitstring(p7.distance(peers[0])))\n",
    "print(bucket_number_for_distance(dist))\n",
    "print(p7 in peers[0].buckets[0])"
   ]
  },
  {
   "cell_type": "code",
   "execution_count": 205,
   "id": "3154a357",
   "metadata": {},
   "outputs": [
    {
     "name": "stdout",
     "output_type": "stream",
     "text": [
      "21\n",
      "12D3KooWPjQRKNJnupa1zTsqfRsFn3zkfDB4JJQQazn7H4UNkQp4\n",
      "b'\\x8c\\x11=\\xde\\xba\\xabZ\\x15\\xa0J\\x9cO\\xffC\\x05\\xc5\\xe4\\xf0k2\\xdf\\x96\\xbe>\\x92\\xc9-`X\\x98\\xb1\\x97'\n"
     ]
    }
   ],
   "source": [
    "print(peers[0].nebula_id)\n",
    "print(peers[0].peer_id)\n",
    "print(peers[0].key)\n"
   ]
  },
  {
   "cell_type": "code",
   "execution_count": 206,
   "id": "5961f387",
   "metadata": {},
   "outputs": [
    {
     "name": "stdout",
     "output_type": "stream",
     "text": [
      "20\n",
      "20\n",
      "20\n",
      "20\n",
      "20\n",
      "20\n",
      "20\n",
      "20\n",
      "20\n",
      "20\n",
      "11\n",
      "5\n",
      "2\n",
      "1\n",
      "0\n",
      "0\n",
      "0\n",
      "0\n",
      "0\n",
      "0\n",
      "0\n",
      "0\n",
      "0\n",
      "0\n",
      "0\n",
      "0\n",
      "0\n",
      "0\n",
      "0\n",
      "0\n",
      "0\n",
      "0\n",
      "0\n",
      "0\n",
      "0\n",
      "0\n",
      "0\n",
      "0\n",
      "0\n",
      "0\n",
      "0\n",
      "0\n",
      "0\n",
      "0\n",
      "0\n",
      "0\n",
      "0\n",
      "0\n",
      "0\n",
      "0\n",
      "0\n",
      "0\n",
      "0\n",
      "0\n",
      "0\n",
      "0\n",
      "0\n",
      "0\n",
      "0\n",
      "0\n",
      "0\n",
      "0\n",
      "0\n",
      "0\n",
      "0\n",
      "0\n",
      "0\n",
      "0\n",
      "0\n",
      "0\n",
      "0\n",
      "0\n",
      "0\n",
      "0\n",
      "0\n",
      "0\n",
      "0\n",
      "0\n",
      "0\n",
      "0\n",
      "0\n",
      "0\n",
      "0\n",
      "0\n",
      "0\n",
      "0\n",
      "0\n",
      "0\n",
      "0\n",
      "0\n",
      "0\n",
      "0\n",
      "0\n",
      "0\n",
      "0\n",
      "0\n",
      "0\n",
      "0\n",
      "0\n",
      "0\n",
      "0\n",
      "0\n",
      "0\n",
      "0\n",
      "0\n",
      "0\n",
      "0\n",
      "0\n",
      "0\n",
      "0\n",
      "0\n",
      "0\n",
      "0\n",
      "0\n",
      "0\n",
      "0\n",
      "0\n",
      "0\n",
      "0\n",
      "0\n",
      "0\n",
      "0\n",
      "0\n",
      "0\n",
      "0\n",
      "0\n",
      "0\n",
      "0\n",
      "0\n",
      "0\n",
      "0\n",
      "0\n",
      "0\n",
      "0\n",
      "0\n",
      "0\n",
      "0\n",
      "0\n",
      "0\n",
      "0\n",
      "0\n",
      "0\n",
      "0\n",
      "0\n",
      "0\n",
      "0\n",
      "0\n",
      "0\n",
      "0\n",
      "0\n",
      "0\n",
      "0\n",
      "0\n",
      "0\n",
      "0\n",
      "0\n",
      "0\n",
      "0\n",
      "0\n",
      "0\n",
      "0\n",
      "0\n",
      "0\n",
      "0\n",
      "0\n",
      "0\n",
      "0\n",
      "0\n",
      "0\n",
      "0\n",
      "0\n",
      "0\n",
      "0\n",
      "0\n",
      "0\n",
      "0\n",
      "0\n",
      "0\n",
      "0\n",
      "0\n",
      "0\n",
      "0\n",
      "0\n",
      "0\n",
      "0\n",
      "0\n",
      "0\n",
      "0\n",
      "0\n",
      "0\n",
      "0\n",
      "0\n",
      "0\n",
      "0\n",
      "0\n",
      "0\n",
      "0\n",
      "0\n",
      "0\n",
      "0\n",
      "0\n",
      "0\n",
      "0\n",
      "0\n",
      "0\n",
      "0\n",
      "0\n",
      "0\n",
      "0\n",
      "0\n",
      "0\n",
      "0\n",
      "0\n",
      "0\n",
      "0\n",
      "0\n",
      "0\n",
      "0\n",
      "0\n",
      "0\n",
      "0\n",
      "0\n",
      "0\n",
      "0\n",
      "0\n",
      "0\n",
      "0\n",
      "0\n",
      "0\n",
      "0\n",
      "0\n",
      "0\n",
      "0\n",
      "0\n",
      "0\n",
      "0\n",
      "0\n",
      "0\n",
      "0\n",
      "0\n",
      "0\n",
      "0\n",
      "0\n",
      "0\n",
      "0\n",
      "0\n",
      "0\n",
      "0\n",
      "0\n",
      "0\n",
      "0\n",
      "0\n",
      "0\n",
      "0\n",
      "0\n",
      "0\n",
      "0\n"
     ]
    }
   ],
   "source": [
    "for b in peers[50].buckets:\n",
    "    print(len(b))"
   ]
  },
  {
   "cell_type": "code",
   "execution_count": 207,
   "id": "66c305ca",
   "metadata": {},
   "outputs": [],
   "source": [
    "# aggregating the number of entries per bucket for all peers\n",
    "def routing_table_distribution_in_kbuckets(peers):\n",
    "    routing_table_distribution_in_kbuckets_data = [[] for _ in range(257)]\n",
    "    routing_table_distribution_in_kbuckets_alive_data = []\n",
    "    for p in peers:\n",
    "        for i in range(len(p.buckets)):\n",
    "            routing_table_distribution_in_kbuckets_data[i].append(len(p.buckets[i]))\n",
    "\n",
    "            count = 0\n",
    "            for neighbor in p.buckets[i]:\n",
    "                if neighbor.alive:\n",
    "                    count += 1\n",
    "            routing_table_distribution_in_kbuckets_alive_data.append(count)\n",
    "    return routing_table_distribution_in_kbuckets_data"
   ]
  },
  {
   "cell_type": "code",
   "execution_count": 210,
   "id": "275f0fcd",
   "metadata": {},
   "outputs": [],
   "source": [
    "import numpy as np\n",
    "import matplotlib.pyplot as plt"
   ]
  },
  {
   "cell_type": "code",
   "execution_count": 211,
   "id": "1419c953",
   "metadata": {},
   "outputs": [],
   "source": [
    "routing_table_distribution_in_kbuckets_data = routing_table_distribution_in_kbuckets(peers)"
   ]
  },
  {
   "cell_type": "code",
   "execution_count": 212,
   "id": "8acb3a6f",
   "metadata": {},
   "outputs": [],
   "source": [
    "avg_in_bucket= np.average(routing_table_distribution_in_kbuckets_data, axis=1)"
   ]
  },
  {
   "cell_type": "code",
   "execution_count": 216,
   "id": "e1f735db",
   "metadata": {},
   "outputs": [
    {
     "data": {
      "image/png": "[encoded data removed]",
      "text/plain": [
       "<Figure size 1440x1080 with 1 Axes>"
      ]
     },
     "metadata": {},
     "output_type": "display_data"
    }
   ],
   "source": [
    "fig = plt.figure(figsize=(20,15), facecolor='white', edgecolor ='black')\n",
    "ax = fig.add_axes([0, 0, 1, 1])\n",
    "\n",
    "#ax.set_xlim(220,257)\n",
    "plt.yticks(range(0, 21, 2))\n",
    "\n",
    "\n",
    "bp = ax.boxplot(routing_table_distribution_in_kbuckets_data[6:18], positions=range(6,18),\\\n",
    "                showfliers=False, whis=(5, 95))\n",
    "\n",
    "plt.plot(range(6,18), avg_in_bucket[6:18], marker='x', markersize=12, ls='', label='average')\n",
    "\n",
    "plt.xlabel(\"k-bucket\")\n",
    "plt.ylabel(\"#peers\")\n",
    "plt.grid(False)\n",
    "\n",
    "plt.title(\"Kademlia k-bucket filling\")\n",
    "plt.legend()\n",
    "\n",
    "plt.rc('font', size=28)\n",
    "\n",
    "plt.savefig(\"plots/kbucket-filling-distribution-all.png\",\n",
    "            bbox_inches =\"tight\",\n",
    "            pad_inches = 1,\n",
    "            transparent = False,\n",
    "            facecolor =\"w\",\n",
    "            edgecolor ='w')\n",
    "\n",
    "# show plot\n",
    "plt.show()"
   ]
  },
  {
   "cell_type": "code",
   "execution_count": null,
   "id": "04c8c54c",
   "metadata": {},
   "outputs": [],
   "source": []
  }
 ],
 "metadata": {
  "kernelspec": {
   "display_name": "Python 3 (ipykernel)",
   "language": "python",
   "name": "python3"
  },
  "language_info": {
   "codemirror_mode": {
    "name": "ipython",
    "version": 3
   },
   "file_extension": ".py",
   "mimetype": "text/x-python",
   "name": "python",
   "nbconvert_exporter": "python",
   "pygments_lexer": "ipython3",
   "version": "3.10.8"
  }
 },
 "nbformat": 4,
 "nbformat_minor": 5
}
