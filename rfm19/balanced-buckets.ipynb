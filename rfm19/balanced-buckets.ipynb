{
 "cells": [
  {
   "cell_type": "code",
   "execution_count": null,
   "metadata": {},
   "outputs": [],
   "source": [
    "import csv"
   ]
  },
  {
   "cell_type": "code",
   "execution_count": null,
   "metadata": {},
   "outputs": [],
   "source": [
    "crawls_data_filename = \"data/nebula-peers-2crawls.csv\"\n",
    "peerids_filename = \"data/all-peerids.csv\""
   ]
  },
  {
   "cell_type": "code",
   "execution_count": null,
   "metadata": {},
   "outputs": [],
   "source": [
    "with open(peerids_filename, 'r') as file:\n",
    "    nebula_peerids = {line[0]:line[1] for line in csv.reader(file)}"
   ]
  },
  {
   "cell_type": "code",
   "execution_count": null,
   "metadata": {},
   "outputs": [],
   "source": [
    "with open(crawls_data_filename, 'r') as file:\n",
    "    all_crawls = [line for line in csv.reader(file)]"
   ]
  },
  {
   "cell_type": "code",
   "execution_count": null,
   "metadata": {},
   "outputs": [],
   "source": [
    "for p in nebula_peerids:\n",
    "    print(p, nebula_peerids[p])\n",
    "    break"
   ]
  },
  {
   "cell_type": "code",
   "execution_count": null,
   "metadata": {},
   "outputs": [],
   "source": [
    "from binary_trie import Trie, bytes_to_bitstring, int_to_bitstring, bitstring_to_int, bitstring_to_bytes\n",
    "import multihash as mh\n",
    "import hashlib as hl\n",
    "import math, os, random\n",
    "import numpy as np"
   ]
  },
  {
   "cell_type": "code",
   "execution_count": null,
   "metadata": {},
   "outputs": [],
   "source": [
    "n_buckets = 256\n",
    "keylen = 32\n",
    "repl = 20\n",
    "concurrency = 10"
   ]
  },
  {
   "cell_type": "code",
   "execution_count": null,
   "metadata": {},
   "outputs": [],
   "source": [
    "def peerid_to_kadid(peerid: str) -> bytes:  \n",
    "    multihash = mh.from_b58_string(peerid)\n",
    "    return hl.sha256(multihash).digest()\n",
    "\n",
    "def peerid_to_bitstr(peerid: str) -> str:\n",
    "    return bytes_to_bitstring(peerid_to_kadid(peerid))\n",
    "\n",
    "def byte_to_int(b: bytes) -> int:\n",
    "    return int.from_bytes(b, byteorder='big')\n",
    "\n",
    "def bxor(b1, b2):\n",
    "    n_b1 = np.frombuffer(b1, dtype='uint8')\n",
    "    n_b2 = np.frombuffer(b2, dtype='uint8')\n",
    "\n",
    "    return (n_b1 ^ n_b2).tobytes()\n"
   ]
  },
  {
   "cell_type": "code",
   "execution_count": null,
   "metadata": {},
   "outputs": [],
   "source": [
    "# XOR two bitstring of equal size, the size doesn't need to be a multiple of 8\n",
    "def xor_bitstring(bs0: str, bs1: str) -> str:\n",
    "    s = \"\"\n",
    "    if len(bs0) == len(bs1):\n",
    "        for i in range(len(bs0)):\n",
    "            if bs0[i]==bs1[i]:\n",
    "                s+='0'\n",
    "            else:\n",
    "                s+='1'\n",
    "    return s\n",
    "\n",
    "def log_dist(bs0, bs1: bytes) -> int:\n",
    "    xored = bxor(bs0, bs1)\n",
    "    dist = byte_to_int(xored)\n",
    "    if dist == 0:\n",
    "        return n_buckets\n",
    "    return n_buckets-math.floor(math.log2(dist))-1\n",
    "    "
   ]
  },
  {
   "attachments": {},
   "cell_type": "markdown",
   "metadata": {},
   "source": [
    "Creates a dictionary for each peers peerid -> list of neighbors peerid, with peerid being the bitstring of the identity"
   ]
  },
  {
   "cell_type": "code",
   "execution_count": null,
   "metadata": {},
   "outputs": [],
   "source": [
    "peers = {}\n",
    "crawl_id = -1\n",
    "for line in all_crawls:\n",
    "    if crawl_id == -1:\n",
    "        crawl_id = line[0]\n",
    "    elif line[0] != crawl_id:\n",
    "        # single crawl\n",
    "        break\n",
    "\n",
    "    peerid = peerid_to_kadid(line[2])\n",
    "\n",
    "    buckets = {}\n",
    "    for npid in line[3:]:\n",
    "        neighbor = peerid_to_kadid(nebula_peerids[npid])\n",
    "        bid = log_dist(peerid, neighbor)\n",
    "        if bid not in buckets:\n",
    "            buckets[bid] = []\n",
    "        buckets[bid].append(neighbor)\n",
    "    \n",
    "    # only count reachable peers\n",
    "    if len(buckets) > 0:\n",
    "        peers[peerid] = buckets\n",
    "\n",
    "new_peers = {}\n",
    "for peer in peers:\n",
    "    buckets = {}\n",
    "    for bid in peers[peer]:\n",
    "        existing = []\n",
    "        for neighbor in peers[peer][bid]:\n",
    "            if neighbor in peers:\n",
    "                existing.append(neighbor)\n",
    "        #peers[peer][bid] = existing\n",
    "        if len(peers[peer][bid]) > 0:\n",
    "            buckets[bid] = existing\n",
    "    if len(buckets) > 0:\n",
    "        new_peers[peer] = buckets\n",
    "\n",
    "peers = new_peers\n"
   ]
  },
  {
   "cell_type": "code",
   "execution_count": null,
   "metadata": {},
   "outputs": [],
   "source": [
    "trie = Trie()\n",
    "for peer in peers:\n",
    "    trie.add(bytes_to_bitstring(peer, l=n_buckets))"
   ]
  },
  {
   "attachments": {},
   "cell_type": "markdown",
   "metadata": {},
   "source": [
    "# Simulator"
   ]
  },
  {
   "cell_type": "code",
   "execution_count": null,
   "metadata": {},
   "outputs": [],
   "source": []
  },
  {
   "cell_type": "code",
   "execution_count": null,
   "metadata": {},
   "outputs": [],
   "source": [
    "def random_key():\n",
    "    return os.urandom(keylen)"
   ]
  },
  {
   "cell_type": "code",
   "execution_count": null,
   "metadata": {},
   "outputs": [],
   "source": [
    "key = random_key()"
   ]
  },
  {
   "cell_type": "code",
   "execution_count": null,
   "metadata": {},
   "outputs": [],
   "source": [
    "closest20bs = trie.n_closest_keys(bytes_to_bitstring(key, l=n_buckets), repl)\n",
    "closest20 = [bitstring_to_bytes(bs) for bs in closest20bs]"
   ]
  },
  {
   "cell_type": "code",
   "execution_count": null,
   "metadata": {},
   "outputs": [],
   "source": [
    "closest20"
   ]
  },
  {
   "attachments": {},
   "cell_type": "markdown",
   "metadata": {},
   "source": [
    "## Peer and Routing Table\n",
    "\n",
    "When looking up a key, find the 20 closest peers to that key (e.g using Binary Trie?)\n",
    "\n",
    "Take the reference host, and check in which bucket the key falls in.\n",
    "\n",
    "_Request_ the key to all peers from this bucket. This operation consists in checking in which bucket the target key would fall in for all _requested_ peers. Taking the union of all these buckets, we select only the 20 closest peers to key (out of 400)\n",
    "\n",
    "The request stop when at least one of these peers is among the 20 closest computed at the begining."
   ]
  },
  {
   "cell_type": "code",
   "execution_count": null,
   "metadata": {},
   "outputs": [],
   "source": [
    "def n_closest(t: Trie, k: bytes, n: int):\n",
    "    if t.size == 0:\n",
    "        print(\"error nil trie\")\n",
    "        return\n",
    "    closest = t.n_closest_keys(bytes_to_bitstring(k, l=n_buckets), n)\n",
    "    return [bitstring_to_bytes(bs) for bs in closest]\n"
   ]
  },
  {
   "cell_type": "code",
   "execution_count": null,
   "metadata": {},
   "outputs": [],
   "source": [
    "t = Trie()\n",
    "t.add(\"0011\")\n",
    "t.add(\"0100\")\n",
    "t.add(\"0110\")\n",
    "t.add(\"1011\")\n",
    "\n",
    "[e for e in t.n_closest_keys(\"1100\", 2)]"
   ]
  },
  {
   "cell_type": "code",
   "execution_count": null,
   "metadata": {},
   "outputs": [],
   "source": [
    "# making use of peers, trie\n",
    "def n_hop_lookup(peer, key):\n",
    "    closest20 = n_closest(trie, key, repl)\n",
    "\n",
    "    hop = 0\n",
    "    if peer in closest20:\n",
    "        return hop\n",
    "\n",
    "    # 20 closest peers in RT\n",
    "    #bid = log_dist(peer, key)\n",
    "    req_trie = Trie()\n",
    "    bid = log_dist(peer, key)\n",
    "    count = 0\n",
    "\n",
    "    for b in peers[peer]:\n",
    "        count += len(peers[peer][b])\n",
    "    #print(\"count\", count)\n",
    "\n",
    "\n",
    "    if bid in peers[peer] and len(peers[peer][bid]) > 0:\n",
    "        for peer_neighbor in peers[peer][bid]:\n",
    "            req_trie.add(bytes_to_bitstring(peer_neighbor, l=n_buckets))\n",
    "    else:\n",
    "        buckets = list(peers[peer].keys())\n",
    "        found_higher = False\n",
    "        for b in range(bid+1, max(buckets)+1):\n",
    "            if b in buckets and len(peers[peer][b]) > 0:\n",
    "                for peer_neighbor in peers[peer][b]:\n",
    "                    req_trie.add(bytes_to_bitstring(peer_neighbor, l=n_buckets))\n",
    "                    found_higher = True\n",
    "        if not found_higher:\n",
    "            print(\"not found higher\")\n",
    "            for b in range(bid-1, -1, -1):\n",
    "                if b in buckets and len(peers[peer][b]) > 0:\n",
    "                    for peer_neighbor in peers[peer][b]:\n",
    "                        req_trie.add(bytes_to_bitstring(peer_neighbor, l=n_buckets))\n",
    "                    print(\"let's break\")\n",
    "                    break # we are only interested in the closest bucket\n",
    "    req_peers = n_closest(req_trie, key, concurrency)\n",
    "\n",
    "    while True:\n",
    "        hop += 1\n",
    "        #print(\"hop\", hop)\n",
    "        for c in closest20:\n",
    "            if c in req_peers:\n",
    "                return hop\n",
    "\n",
    "        req_trie = Trie()\n",
    "        for p in req_peers:\n",
    "            bid = log_dist(p, key)\n",
    "            #print(bytes_to_bitstring(p))\n",
    "            #print(bytes_to_bitstring(key))\n",
    "            #print(\"bid\", bid)\n",
    "            count = 0\n",
    "\n",
    "            for b in peers[p]:\n",
    "                count += len(peers[p][b])\n",
    "            #print(\"count\", count)\n",
    "            #print(\"peer\", bytes_to_bitstring(peer))\n",
    "            #print(\"key\", bytes_to_bitstring(key))\n",
    "\n",
    "            # new attempt\n",
    "            if bid in peers[p] and len(peers[p][bid]) > 0:\n",
    "                for peer_neighbor in peers[p][bid]:\n",
    "                    req_trie.add(bytes_to_bitstring(peer_neighbor, l=n_buckets))\n",
    "            else:\n",
    "                buckets = list(peers[p].keys())\n",
    "                found_higher = False\n",
    "                for b in range(bid+1, max(buckets)+1):\n",
    "                    if b in buckets and len(peers[p][b]) > 0:\n",
    "                        for peer_neighbor in peers[p][b]:\n",
    "                            req_trie.add(bytes_to_bitstring(peer_neighbor, l=n_buckets))\n",
    "                            found_higher = True\n",
    "                if not found_higher:\n",
    "                    for b in range(bid-1, -1, -1):\n",
    "                        if b in buckets and len(peers[p][b]) > 0:\n",
    "                            for peer_neighbor in peers[p][b]:\n",
    "                                req_trie.add(bytes_to_bitstring(peer_neighbor, l=n_buckets))\n",
    "                            break # we are only interested in the closest bucket\n",
    "                    \n",
    "\n",
    "\n",
    "            \"\"\"\n",
    "            # first check bucket, then bucket+ and finally bucket\n",
    "            buckets = sorted(list(peers[p].keys()))\n",
    "            i = buckets.index(bucket)\n",
    "            if i == -1:\n",
    "                for \n",
    "            count = 0\n",
    "            max_reached = False\n",
    "            while count<repl and bid>=0:\n",
    "                bid = buckets[i]\n",
    "                if bid in peers[p]:\n",
    "                    for peer_neighbor in peers[p][bid]:\n",
    "                        req_trie.add(bytes_to_bitstring(peer_neighbor, l=n_buckets))\n",
    "                        count += 1\n",
    "\n",
    "                if not max_reached:\n",
    "                    bid += 1\n",
    "\n",
    "            for bid in range(bucket, -1, -1):\n",
    "                #print(bid)\n",
    "                if bid in peers[p]:\n",
    "                    for peer_neighbor in peers[p][bid]:\n",
    "                        req_trie.add(bytes_to_bitstring(peer_neighbor, l=n_buckets))\n",
    "                        count += 1\n",
    "                    #print(count)\n",
    "                    if count >= repl:\n",
    "                        break\n",
    "            \n",
    "            for bid in peers[p]:\n",
    "                print(\"candidates\")\n",
    "                for peer_neighbor in peers[p][bid]:\n",
    "                    req_trie.add(bytes_to_bitstring(peer_neighbor, l=n_buckets))\n",
    "                    print(bytes_to_bitstring(peer_neighbor))\n",
    "                print(\"end candidates\")\n",
    "            \"\"\"\n",
    "        old_best = req_peers[0]\n",
    "        req_peers = n_closest(req_trie, key, 20)\n",
    "\n",
    "        \"\"\"\n",
    "        print(\"old best + new candidates\")\n",
    "        print(bytes_to_bitstring(old_best))\n",
    "        for p in req_peers:\n",
    "            print(bytes_to_bitstring(p))\n",
    "        print(\"end best\")\n",
    "        \"\"\"\n"
   ]
  },
  {
   "cell_type": "code",
   "execution_count": null,
   "metadata": {},
   "outputs": [],
   "source": [
    "# debug cell\n",
    "key_bs = \"1100011011110001000110010010000111110111011111111110110111001011100000111110011100001001010111001011111111000110000010100100110100101001010000110001011010100111101000000101011000011010011101000101110011000111001101100001101111000110000111100010110001000100\"\n",
    "peer_bs = \"0011101111100111111101011000010111100110000111000011101000010000010000100001101101010000010001001001000110001101011011000011001011010010110110100101100111001011010101100001001111110000101011110111111111000111100110000100101111111000000101110001011100111101\"\n",
    "\n",
    "print(\"key\", key_bs)\n",
    "\n",
    "closest = trie.n_closest_keys(key_bs, repl)\n",
    "print(\"Closest 20\")\n",
    "for c in closest:\n",
    "    print(c)\n",
    "\n",
    "for _ in range(1):\n",
    "    res = n_hop_lookup(bitstring_to_bytes(peer_bs), bitstring_to_bytes(key_bs))\n",
    "    #print(res)"
   ]
  },
  {
   "cell_type": "code",
   "execution_count": null,
   "metadata": {},
   "outputs": [],
   "source": [
    "hop_counts = []\n",
    "for i in range(10000):\n",
    "    peer = random.choice(list(peers.keys()))\n",
    "    key = random_key()\n",
    "    n_hop = n_hop_lookup(peer, key)\n",
    "    hop_counts.append(n_hop)"
   ]
  },
  {
   "cell_type": "code",
   "execution_count": null,
   "metadata": {},
   "outputs": [],
   "source": [
    "occurences = {}\n",
    "for i in hop_counts:\n",
    "    if i not in occurences:\n",
    "        occurences[i] = 1\n",
    "    else:\n",
    "        occurences[i] += 1"
   ]
  },
  {
   "cell_type": "code",
   "execution_count": null,
   "metadata": {},
   "outputs": [],
   "source": [
    "occurences"
   ]
  },
  {
   "cell_type": "code",
   "execution_count": null,
   "metadata": {},
   "outputs": [],
   "source": [
    "avg_current = sum(hop_counts)/len(hop_counts)\n",
    "avg_current"
   ]
  },
  {
   "attachments": {},
   "cell_type": "markdown",
   "metadata": {},
   "source": [
    "# Balanced buckets\n",
    "\n",
    "Note that this isn't the perfect routing table. If the observed peer has 18 reachable peers in one of its buckets, even though more peers would fit, the simulation will only have 18 balanced peers.\n",
    "\n",
    "First try to fill the above layer, and go down if there is space left."
   ]
  },
  {
   "cell_type": "code",
   "execution_count": 287,
   "metadata": {},
   "outputs": [],
   "source": [
    "# return a list of keys\n",
    "def balance_bucket(t: Trie, n: int):\n",
    "    if n == 0 or t is None:\n",
    "        return []\n",
    "    half = math.ceil(n/2)\n",
    "    if t.branch[0] is None or t.branch[1] is None:\n",
    "        return [t.key]\n",
    "    elif t.branch[0].size >= half and t.branch[1].size >= half:\n",
    "        add0, add1 = 0, 0\n",
    "        if n % 2 == 1:\n",
    "            if random.randint(0, 1) == 0:\n",
    "                add0 += 1\n",
    "            else:\n",
    "                add1 += 1\n",
    "        return balance_bucket(t.branch[0], half-add0) + balance_bucket(t.branch[1], half-add1)\n",
    "    elif t.branch[0].size >= half:\n",
    "        b1 = t.branch[1].size\n",
    "        return balance_bucket(t.branch[0], n-b1) + balance_bucket(t.branch[1], b1)\n",
    "    elif t.branch[1].size >= half:\n",
    "        b0 = t.branch[0].size\n",
    "        return balance_bucket(t.branch[0], b0) + balance_bucket(t.branch[1], n-b0)\n",
    "    else:\n",
    "        return t.match_prefix_keys(prefix=\"\")"
   ]
  },
  {
   "cell_type": "code",
   "execution_count": null,
   "metadata": {},
   "outputs": [],
   "source": [
    "trie_test = Trie()\n",
    "nodeIDs = [2, 3, 4, 6, 7, 9, 11, 13]\n",
    "for i in nodeIDs:\n",
    "    trie_test.add(int_to_bitstring(i, 4))\n",
    "\n",
    "print(balance_bucket(trie_test, 4))"
   ]
  },
  {
   "cell_type": "code",
   "execution_count": null,
   "metadata": {},
   "outputs": [],
   "source": [
    "balanced_peers = {}\n",
    "for peer in peers:\n",
    "    \n",
    "    buckets = {}\n",
    "    for bid in peers[peer]:\n",
    "        n = len(peers[peer][bid])\n",
    "        prefix = bytes_to_bitstring(peer)[:bid]\n",
    "        t = trie.find_trie(key=prefix)\n",
    "        buckets[bid] = [bitstring_to_bytes(k) for k in balance_bucket(t, n)]\n",
    "\n",
    "    balanced_peers[peer] = buckets\n"
   ]
  },
  {
   "cell_type": "code",
   "execution_count": null,
   "metadata": {},
   "outputs": [],
   "source": [
    "len(peers)==len(balanced_peers)"
   ]
  },
  {
   "cell_type": "code",
   "execution_count": null,
   "metadata": {},
   "outputs": [],
   "source": [
    "# making use of peers, trie\n",
    "def n_hop_lookup_with_peers(peer, key, peers):\n",
    "    closest20 = n_closest(trie, key, repl)\n",
    "\n",
    "    hop = 0\n",
    "    if peer in closest20:\n",
    "        return hop\n",
    "\n",
    "    req_trie = Trie()\n",
    "    bid = log_dist(peer, key)\n",
    "\n",
    "    if bid in peers[peer] and len(peers[peer][bid]) > 0:\n",
    "        for peer_neighbor in peers[peer][bid]:\n",
    "            req_trie.add(bytes_to_bitstring(peer_neighbor, l=n_buckets))\n",
    "    else:\n",
    "        buckets = list(peers[peer].keys())\n",
    "        found_higher = False\n",
    "        for b in range(bid+1, max(buckets)+1):\n",
    "            if b in buckets and len(peers[peer][b]) > 0:\n",
    "                for peer_neighbor in peers[peer][b]:\n",
    "                    req_trie.add(bytes_to_bitstring(peer_neighbor, l=n_buckets))\n",
    "                    found_higher = True\n",
    "        if not found_higher:\n",
    "            for b in range(bid-1, -1, -1):\n",
    "                if b in buckets and len(peers[peer][b]) > 0:\n",
    "                    for peer_neighbor in peers[peer][b]:\n",
    "                        req_trie.add(bytes_to_bitstring(peer_neighbor, l=n_buckets))\n",
    "                    break # we are only interested in the closest bucket\n",
    "    req_peers = n_closest(req_trie, key, concurrency)\n",
    "\n",
    "    while True:\n",
    "        hop += 1\n",
    "        for c in closest20:\n",
    "            if c in req_peers:\n",
    "                return hop\n",
    "\n",
    "        req_trie = Trie()\n",
    "        for p in req_peers:\n",
    "            bid = log_dist(p, key)\n",
    "\n",
    "            if bid in peers[p] and len(peers[p][bid]) > 0:\n",
    "                for peer_neighbor in peers[p][bid]:\n",
    "                    req_trie.add(bytes_to_bitstring(peer_neighbor, l=n_buckets))\n",
    "            else:\n",
    "                buckets = list(peers[p].keys())\n",
    "                found_higher = False\n",
    "                for b in range(bid+1, max(buckets)+1):\n",
    "                    if b in buckets and len(peers[p][b]) > 0:\n",
    "                        for peer_neighbor in peers[p][b]:\n",
    "                            req_trie.add(bytes_to_bitstring(peer_neighbor, l=n_buckets))\n",
    "                            found_higher = True\n",
    "                if not found_higher:\n",
    "                    for b in range(bid-1, -1, -1):\n",
    "                        if b in buckets and len(peers[p][b]) > 0:\n",
    "                            for peer_neighbor in peers[p][b]:\n",
    "                                req_trie.add(bytes_to_bitstring(peer_neighbor, l=n_buckets))\n",
    "                            break # we are only interested in the closest bucket\n",
    "                    \n",
    "        req_peers = n_closest(req_trie, key, 20)"
   ]
  },
  {
   "cell_type": "code",
   "execution_count": null,
   "metadata": {},
   "outputs": [],
   "source": [
    "hop_counts_balanced = []\n",
    "for i in range(10000):\n",
    "    peer = random.choice(list(peers.keys()))\n",
    "    key = random_key()\n",
    "    n_hop = n_hop_lookup_with_peers(peer, key, balanced_peers)\n",
    "    hop_counts_balanced.append(n_hop)"
   ]
  },
  {
   "cell_type": "code",
   "execution_count": null,
   "metadata": {},
   "outputs": [],
   "source": [
    "occurences = {}\n",
    "for i in hop_counts_balanced:\n",
    "    if i not in occurences:\n",
    "        occurences[i] = 1\n",
    "    else:\n",
    "        occurences[i] += 1"
   ]
  },
  {
   "cell_type": "code",
   "execution_count": null,
   "metadata": {},
   "outputs": [],
   "source": [
    "occurences"
   ]
  },
  {
   "cell_type": "code",
   "execution_count": null,
   "metadata": {},
   "outputs": [],
   "source": [
    "avg_balanced = sum(hop_counts_balanced)/len(hop_counts_balanced)\n",
    "avg_balanced"
   ]
  },
  {
   "cell_type": "code",
   "execution_count": null,
   "metadata": {},
   "outputs": [],
   "source": [
    "print(\"Average current buckets\", avg_current)\n",
    "print(\"Average balanced buckets\", avg_balanced)\n",
    "print(1-avg_current/avg_balanced)"
   ]
  },
  {
   "attachments": {},
   "cell_type": "markdown",
   "metadata": {},
   "source": [
    "## Results\n",
    "\n",
    "Balanced buckets appear to have on average 5% more hops than unbalanced ones. Maybe nodes that are in many other's RT have a well furnished RT themselves. However, when nodes are selected randomly to "
   ]
  },
  {
   "attachments": {},
   "cell_type": "markdown",
   "metadata": {},
   "source": [
    "# Random setting simulation\n",
    "\n",
    "The following experiment doesn't take as input the state of the network gathered by Nebula. It is solely a theoretical simulation."
   ]
  },
  {
   "cell_type": "code",
   "execution_count": null,
   "metadata": {},
   "outputs": [],
   "source": [
    "peers_number = 25000\n",
    "sim_concurrency = 10\n",
    "sim_repl = 20\n",
    "bucket_size = 20"
   ]
  },
  {
   "cell_type": "code",
   "execution_count": null,
   "metadata": {},
   "outputs": [],
   "source": []
  },
  {
   "attachments": {},
   "cell_type": "markdown",
   "metadata": {},
   "source": [
    "# Balanced buckets don't seem to work (at least for high id buckets)"
   ]
  },
  {
   "cell_type": "code",
   "execution_count": 291,
   "metadata": {},
   "outputs": [],
   "source": [
    "sim_trie = Trie()\n",
    "sim_peers = []\n",
    "\n",
    "sim_peers_random = {}\n",
    "sim_peers_balanced = {}\n",
    "\n",
    "for _ in range(peers_number):\n",
    "    peerid = random_key()\n",
    "    sim_peers.append(peerid)\n",
    "    sim_trie.add(bytes_to_bitstring(peerid))\n",
    "\n",
    "    sim_peers_random[peerid] = {}\n",
    "    sim_peers_balanced[peerid] = {}\n",
    "\n",
    "\n",
    "for bid in range(20):\n",
    "    for i in range(2**(bid+1)):\n",
    "        candidate_prefix = int_to_bitstring(i, bid+1)\n",
    "        candidates = sim_trie.match_prefix_keys(candidate_prefix)\n",
    "\n",
    "        # flip last bit\n",
    "        target_prefix = candidate_prefix[:-1]\n",
    "        if candidate_prefix[-1] == \"0\":\n",
    "            target_prefix += \"1\"\n",
    "        else:\n",
    "            target_prefix += \"0\"\n",
    "\n",
    "        targets = sim_trie.match_prefix_keys(target_prefix)\n",
    "\n",
    "        subtrie_root = sim_trie.find_trie(candidate_prefix)\n",
    "\n",
    "        for t in targets:\n",
    "            # set random buckets\n",
    "            random_bucket = [bitstring_to_bytes(p) for p in random.sample(candidates, min(bucket_size, len(candidates)))]\n",
    "            sim_peers_random[bitstring_to_bytes(t)][bid] = random_bucket\n",
    "            # set balanced buckets\n",
    "            if subtrie_root is None:\n",
    "                balanced_bucket = [bitstring_to_bytes(p) for p in balance_bucket(subtrie_root, bucket_size)]\n",
    "                sim_peers_balanced[bitstring_to_bytes(t)][bid] = balanced_bucket\n",
    "\n",
    "        \n"
   ]
  },
  {
   "cell_type": "code",
   "execution_count": null,
   "metadata": {},
   "outputs": [],
   "source": [
    "sim_peers_random"
   ]
  },
  {
   "cell_type": "code",
   "execution_count": 313,
   "metadata": {},
   "outputs": [],
   "source": [
    "# making use of peers, trie\n",
    "def n_hop_lookup_with_peers_and_trie(peer, key, peers, trie):\n",
    "    closest20 = n_closest(trie, key, repl)\n",
    "\n",
    "    hop = 0\n",
    "    if peer in closest20:\n",
    "        return hop\n",
    "\n",
    "    req_trie = Trie()\n",
    "    bid = log_dist(peer, key)\n",
    "\n",
    "    if bid in peers[peer] and len(peers[peer][bid]) > 0:\n",
    "        for peer_neighbor in peers[peer][bid]:\n",
    "            req_trie.add(bytes_to_bitstring(peer_neighbor, l=n_buckets))\n",
    "    else:\n",
    "        buckets = list(peers[peer].keys())\n",
    "        found_higher = False\n",
    "        for b in range(bid+1, max(buckets)+1):\n",
    "            if b in buckets and len(peers[peer][b]) > 0:\n",
    "                for peer_neighbor in peers[peer][b]:\n",
    "                    req_trie.add(bytes_to_bitstring(peer_neighbor, l=n_buckets))\n",
    "                    found_higher = True\n",
    "        if not found_higher:\n",
    "            for b in range(bid-1, -1, -1):\n",
    "                if b in buckets and len(peers[peer][b]) > 0:\n",
    "                    for peer_neighbor in peers[peer][b]:\n",
    "                        req_trie.add(bytes_to_bitstring(peer_neighbor, l=n_buckets))\n",
    "                    break # we are only interested in the closest bucket\n",
    "    if req_trie.size == 0:\n",
    "        print(peers[peer])\n",
    "        print(\"empty trie\")\n",
    "    req_peers = n_closest(req_trie, key, concurrency)\n",
    "\n",
    "    while True:\n",
    "        hop += 1\n",
    "        for c in closest20:\n",
    "            if c in req_peers:\n",
    "                return hop\n",
    "\n",
    "        req_trie = Trie()\n",
    "        for p in req_peers:\n",
    "            bid = log_dist(p, key)\n",
    "\n",
    "            if bid in peers[p] and len(peers[p][bid]) > 0:\n",
    "                for peer_neighbor in peers[p][bid]:\n",
    "                    req_trie.add(bytes_to_bitstring(peer_neighbor, l=n_buckets))\n",
    "            else:\n",
    "                buckets = list(peers[p].keys())\n",
    "                found_higher = False\n",
    "                for b in range(bid+1, max(buckets)+1):\n",
    "                    if b in buckets and len(peers[p][b]) > 0:\n",
    "                        for peer_neighbor in peers[p][b]:\n",
    "                            req_trie.add(bytes_to_bitstring(peer_neighbor, l=n_buckets))\n",
    "                            found_higher = True\n",
    "                if not found_higher:\n",
    "                    for b in range(bid-1, -1, -1):\n",
    "                        if b in buckets and len(peers[p][b]) > 0:\n",
    "                            for peer_neighbor in peers[p][b]:\n",
    "                                req_trie.add(bytes_to_bitstring(peer_neighbor, l=n_buckets))\n",
    "                            break # we are only interested in the closest bucket\n",
    "                    \n",
    "        req_peers = n_closest(req_trie, key, 20)"
   ]
  },
  {
   "cell_type": "code",
   "execution_count": 301,
   "metadata": {},
   "outputs": [],
   "source": [
    "sim_random_hop_count = []\n",
    "for i in range(10000):\n",
    "    peer = random.choice(sim_peers)\n",
    "    key = random_key()\n",
    "    n_hop = n_hop_lookup_with_peers_and_trie(peer, key, sim_peers_random, sim_trie)\n",
    "    sim_random_hop_count.append(n_hop)\n"
   ]
  },
  {
   "cell_type": "code",
   "execution_count": 302,
   "metadata": {},
   "outputs": [
    {
     "data": {
      "text/plain": [
       "1.9352"
      ]
     },
     "execution_count": 302,
     "metadata": {},
     "output_type": "execute_result"
    }
   ],
   "source": [
    "sim_avg_random = sum(sim_random_hop_count)/len(sim_random_hop_count)\n",
    "sim_avg_random"
   ]
  },
  {
   "cell_type": "code",
   "execution_count": 314,
   "metadata": {},
   "outputs": [
    {
     "name": "stdout",
     "output_type": "stream",
     "text": [
      "{12: [], 13: [], 14: [], 15: [], 16: [], 17: [], 18: [], 19: []}\n",
      "empty trie\n",
      "error nil trie\n"
     ]
    },
    {
     "ename": "TypeError",
     "evalue": "argument of type 'NoneType' is not iterable",
     "output_type": "error",
     "traceback": [
      "\u001b[0;31m---------------------------------------------------------------------------\u001b[0m",
      "\u001b[0;31mTypeError\u001b[0m                                 Traceback (most recent call last)",
      "\u001b[1;32m/home/guissou/Documents/probelab/dht-timeouts/repos/ipfs-measurements-scripts/rfm19/balanced-buckets.ipynb Cell 48\u001b[0m in \u001b[0;36m<cell line: 2>\u001b[0;34m()\u001b[0m\n\u001b[1;32m      <a href='vscode-notebook-cell:/home/guissou/Documents/probelab/dht-timeouts/repos/ipfs-measurements-scripts/rfm19/balanced-buckets.ipynb#Y102sZmlsZQ%3D%3D?line=2'>3</a>\u001b[0m peer \u001b[39m=\u001b[39m random\u001b[39m.\u001b[39mchoice(sim_peers)\n\u001b[1;32m      <a href='vscode-notebook-cell:/home/guissou/Documents/probelab/dht-timeouts/repos/ipfs-measurements-scripts/rfm19/balanced-buckets.ipynb#Y102sZmlsZQ%3D%3D?line=3'>4</a>\u001b[0m key \u001b[39m=\u001b[39m random_key()\n\u001b[0;32m----> <a href='vscode-notebook-cell:/home/guissou/Documents/probelab/dht-timeouts/repos/ipfs-measurements-scripts/rfm19/balanced-buckets.ipynb#Y102sZmlsZQ%3D%3D?line=4'>5</a>\u001b[0m n_hop \u001b[39m=\u001b[39m n_hop_lookup_with_peers_and_trie(peer, key, sim_peers_balanced, sim_trie)\n\u001b[1;32m      <a href='vscode-notebook-cell:/home/guissou/Documents/probelab/dht-timeouts/repos/ipfs-measurements-scripts/rfm19/balanced-buckets.ipynb#Y102sZmlsZQ%3D%3D?line=5'>6</a>\u001b[0m sim_balanced_hop_count\u001b[39m.\u001b[39mappend(n_hop)\n",
      "\u001b[1;32m/home/guissou/Documents/probelab/dht-timeouts/repos/ipfs-measurements-scripts/rfm19/balanced-buckets.ipynb Cell 48\u001b[0m in \u001b[0;36mn_hop_lookup_with_peers_and_trie\u001b[0;34m(peer, key, peers, trie)\u001b[0m\n\u001b[1;32m     <a href='vscode-notebook-cell:/home/guissou/Documents/probelab/dht-timeouts/repos/ipfs-measurements-scripts/rfm19/balanced-buckets.ipynb#Y102sZmlsZQ%3D%3D?line=34'>35</a>\u001b[0m hop \u001b[39m+\u001b[39m\u001b[39m=\u001b[39m \u001b[39m1\u001b[39m\n\u001b[1;32m     <a href='vscode-notebook-cell:/home/guissou/Documents/probelab/dht-timeouts/repos/ipfs-measurements-scripts/rfm19/balanced-buckets.ipynb#Y102sZmlsZQ%3D%3D?line=35'>36</a>\u001b[0m \u001b[39mfor\u001b[39;00m c \u001b[39min\u001b[39;00m closest20:\n\u001b[0;32m---> <a href='vscode-notebook-cell:/home/guissou/Documents/probelab/dht-timeouts/repos/ipfs-measurements-scripts/rfm19/balanced-buckets.ipynb#Y102sZmlsZQ%3D%3D?line=36'>37</a>\u001b[0m     \u001b[39mif\u001b[39;00m c \u001b[39min\u001b[39;49;00m req_peers:\n\u001b[1;32m     <a href='vscode-notebook-cell:/home/guissou/Documents/probelab/dht-timeouts/repos/ipfs-measurements-scripts/rfm19/balanced-buckets.ipynb#Y102sZmlsZQ%3D%3D?line=37'>38</a>\u001b[0m         \u001b[39mreturn\u001b[39;00m hop\n\u001b[1;32m     <a href='vscode-notebook-cell:/home/guissou/Documents/probelab/dht-timeouts/repos/ipfs-measurements-scripts/rfm19/balanced-buckets.ipynb#Y102sZmlsZQ%3D%3D?line=39'>40</a>\u001b[0m req_trie \u001b[39m=\u001b[39m Trie()\n",
      "\u001b[0;31mTypeError\u001b[0m: argument of type 'NoneType' is not iterable"
     ]
    }
   ],
   "source": [
    "sim_balanced_hop_count = []\n",
    "for i in range(10000):\n",
    "    peer = random.choice(sim_peers)\n",
    "    key = random_key()\n",
    "    n_hop = n_hop_lookup_with_peers_and_trie(peer, key, sim_peers_balanced, sim_trie)\n",
    "    sim_balanced_hop_count.append(n_hop)"
   ]
  },
  {
   "cell_type": "code",
   "execution_count": null,
   "metadata": {},
   "outputs": [],
   "source": [
    "sim_avg_random = sum(sim_random_hop_count)/len(sim_random_hop_count)\n",
    "sim_avg_random"
   ]
  }
 ],
 "metadata": {
  "kernelspec": {
   "display_name": "Python 3",
   "language": "python",
   "name": "python3"
  },
  "language_info": {
   "codemirror_mode": {
    "name": "ipython",
    "version": 3
   },
   "file_extension": ".py",
   "mimetype": "text/x-python",
   "name": "python",
   "nbconvert_exporter": "python",
   "pygments_lexer": "ipython3",
   "version": "3.10.9"
  },
  "orig_nbformat": 4,
  "vscode": {
   "interpreter": {
    "hash": "e7370f93d1d0cde622a1f8e1c04877d8463912d04d973331ad4851f04de6915a"
   }
  }
 },
 "nbformat": 4,
 "nbformat_minor": 2
}
