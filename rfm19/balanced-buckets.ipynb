{
 "cells": [
  {
   "cell_type": "code",
   "execution_count": 327,
   "metadata": {},
   "outputs": [],
   "source": [
    "import csv"
   ]
  },
  {
   "cell_type": "code",
   "execution_count": 328,
   "metadata": {},
   "outputs": [],
   "source": [
    "crawls_data_filename = \"data/nebula-peers-2crawls.csv\"\n",
    "peerids_filename = \"data/all-peerids.csv\""
   ]
  },
  {
   "cell_type": "code",
   "execution_count": 329,
   "metadata": {},
   "outputs": [],
   "source": [
    "with open(peerids_filename, 'r') as file:\n",
    "    nebula_peerids = {line[0]:line[1] for line in csv.reader(file)}"
   ]
  },
  {
   "cell_type": "code",
   "execution_count": 330,
   "metadata": {},
   "outputs": [],
   "source": [
    "with open(crawls_data_filename, 'r') as file:\n",
    "    all_crawls = [line for line in csv.reader(file)]"
   ]
  },
  {
   "cell_type": "code",
   "execution_count": 331,
   "metadata": {},
   "outputs": [
    {
     "name": "stdout",
     "output_type": "stream",
     "text": [
      "8 QmdPXsdGiPZzXE1SMScH5yXLsmRfTfUc94NWpGPaN9AHGT\n"
     ]
    }
   ],
   "source": [
    "for p in nebula_peerids:\n",
    "    print(p, nebula_peerids[p])\n",
    "    break"
   ]
  },
  {
   "cell_type": "code",
   "execution_count": 332,
   "metadata": {},
   "outputs": [],
   "source": [
    "from binary_trie import Trie, bytes_to_bitstring, int_to_bitstring, bitstring_to_int, bitstring_to_bytes\n",
    "import multihash as mh\n",
    "import hashlib as hl\n",
    "import math, os, random\n",
    "import numpy as np"
   ]
  },
  {
   "cell_type": "code",
   "execution_count": 333,
   "metadata": {},
   "outputs": [],
   "source": [
    "n_buckets = 256\n",
    "keylen = 32\n",
    "repl = 20\n",
    "concurrency = 10"
   ]
  },
  {
   "cell_type": "code",
   "execution_count": 334,
   "metadata": {},
   "outputs": [],
   "source": [
    "def peerid_to_kadid(peerid: str) -> bytes:  \n",
    "    multihash = mh.from_b58_string(peerid)\n",
    "    return hl.sha256(multihash).digest()\n",
    "\n",
    "def peerid_to_bitstr(peerid: str) -> str:\n",
    "    return bytes_to_bitstring(peerid_to_kadid(peerid))\n",
    "\n",
    "def byte_to_int(b: bytes) -> int:\n",
    "    return int.from_bytes(b, byteorder='big')\n",
    "\n",
    "def bxor(b1, b2):\n",
    "    n_b1 = np.frombuffer(b1, dtype='uint8')\n",
    "    n_b2 = np.frombuffer(b2, dtype='uint8')\n",
    "\n",
    "    return (n_b1 ^ n_b2).tobytes()\n"
   ]
  },
  {
   "cell_type": "code",
   "execution_count": 335,
   "metadata": {},
   "outputs": [],
   "source": [
    "# XOR two bitstring of equal size, the size doesn't need to be a multiple of 8\n",
    "def xor_bitstring(bs0: str, bs1: str) -> str:\n",
    "    s = \"\"\n",
    "    if len(bs0) == len(bs1):\n",
    "        for i in range(len(bs0)):\n",
    "            if bs0[i]==bs1[i]:\n",
    "                s+='0'\n",
    "            else:\n",
    "                s+='1'\n",
    "    return s\n",
    "\n",
    "def log_dist(bs0, bs1: bytes) -> int:\n",
    "    xored = bxor(bs0, bs1)\n",
    "    dist = byte_to_int(xored)\n",
    "    if dist == 0:\n",
    "        return n_buckets\n",
    "    return n_buckets-math.floor(math.log2(dist))-1\n",
    "    "
   ]
  },
  {
   "attachments": {},
   "cell_type": "markdown",
   "metadata": {},
   "source": [
    "Creates a dictionary for each peers peerid -> list of neighbors peerid, with peerid being the bitstring of the identity"
   ]
  },
  {
   "cell_type": "code",
   "execution_count": 336,
   "metadata": {},
   "outputs": [],
   "source": [
    "peers = {}\n",
    "crawl_id = -1\n",
    "for line in all_crawls:\n",
    "    if crawl_id == -1:\n",
    "        crawl_id = line[0]\n",
    "    elif line[0] != crawl_id:\n",
    "        # single crawl\n",
    "        break\n",
    "\n",
    "    peerid = peerid_to_kadid(line[2])\n",
    "\n",
    "    buckets = {}\n",
    "    for npid in line[3:]:\n",
    "        neighbor = peerid_to_kadid(nebula_peerids[npid])\n",
    "        bid = log_dist(peerid, neighbor)\n",
    "        if bid not in buckets:\n",
    "            buckets[bid] = []\n",
    "        buckets[bid].append(neighbor)\n",
    "    \n",
    "    # only count reachable peers\n",
    "    if len(buckets) > 0:\n",
    "        peers[peerid] = buckets\n",
    "\n",
    "new_peers = {}\n",
    "for peer in peers:\n",
    "    buckets = {}\n",
    "    for bid in peers[peer]:\n",
    "        existing = []\n",
    "        for neighbor in peers[peer][bid]:\n",
    "            if neighbor in peers:\n",
    "                existing.append(neighbor)\n",
    "        #peers[peer][bid] = existing\n",
    "        if len(peers[peer][bid]) > 0:\n",
    "            buckets[bid] = existing\n",
    "    if len(buckets) > 0:\n",
    "        new_peers[peer] = buckets\n",
    "\n",
    "peers = new_peers\n"
   ]
  },
  {
   "cell_type": "code",
   "execution_count": 337,
   "metadata": {},
   "outputs": [],
   "source": [
    "trie = Trie()\n",
    "for peer in peers:\n",
    "    trie.add(bytes_to_bitstring(peer, l=n_buckets))"
   ]
  },
  {
   "attachments": {},
   "cell_type": "markdown",
   "metadata": {},
   "source": [
    "# Simulator"
   ]
  },
  {
   "cell_type": "code",
   "execution_count": null,
   "metadata": {},
   "outputs": [],
   "source": []
  },
  {
   "cell_type": "code",
   "execution_count": 338,
   "metadata": {},
   "outputs": [],
   "source": [
    "def random_key():\n",
    "    return os.urandom(keylen)"
   ]
  },
  {
   "cell_type": "code",
   "execution_count": 339,
   "metadata": {},
   "outputs": [],
   "source": [
    "key = random_key()"
   ]
  },
  {
   "cell_type": "code",
   "execution_count": 340,
   "metadata": {},
   "outputs": [],
   "source": [
    "closest20bs = trie.n_closest_keys(bytes_to_bitstring(key, l=n_buckets), repl)\n",
    "closest20 = [bitstring_to_bytes(bs) for bs in closest20bs]"
   ]
  },
  {
   "cell_type": "code",
   "execution_count": 341,
   "metadata": {},
   "outputs": [
    {
     "data": {
      "text/plain": [
       "[b'\\x92\\xffmN\\xc3\\xb1\\x97\\xa8\\xa0\\x07\\x86\\r\\x03\\xfeWe\\x1eK\\xcf\\xa8\\xfc\\xb3Ts\\xab>P\\x9a(CYF',\n",
       " b'\\x92\\xf2)\\xfa^\\xa5:l#\\x1e#E6\\x88.m\\xb7\\xeb\\xdb\\xab\\xefg\\x9c\\xb3\\xb8\\x0e\\xd0\\xb9\\xad:3*',\n",
       " b'\\x92\\xf5\\xf9\\xb5\\x0b8\\xba\\xe1\\xb1\\x8d\\x86\\x87y^\\xb6\\xa2\\\\\\x15Ln`\\x13\\x7f\\xcexg\\x87\\xc5\\xd0\\xe0]D',\n",
       " b'\\x92\\xe8f\\x91@\\xc5\\xafE\\xfe\\xe2R\\xb2\\x9c\\xb8(\\xfc\\xc5\\xc4*\\x8cpR\\x8ehR\\x97\\x97$\\xc5\\xe5L\\x10',\n",
       " b'\\x92\\xe5$l\\xc5\\xd4~o\\x03\\xdb*w\\x9e\\xcf\\x14 G\\xe7\\x9e\\x1d\\xfd\\x01\\xa3\\x87=t#\\x12\\xd2\\x8d\\xb3\\x0c',\n",
       " b'\\x92\\xe5\\xa5E2q\\xfeHx\\xc5V\\x92e\\x15\\x1b\\xab\\xe3y\\xcc\\x02\\xf8R\\x00\\\\r\\x9c@\\xa7\\x1d\\xeb}\\x9e',\n",
       " b'\\x92\\xd8\\xaa\\xd0:d\\xd5\\xd0\\x1e\\x0b\\xd4\\xc6\\xc9H\\x94\\x14\\tU\\xe9\\x036\\xe0\\xcc\\xca\\xa3\\xbbq\\x91@*\\x11\\x81',\n",
       " b'\\x92\\xda\\xec\\xcf\\xca\\xab1\\xec\\x81+4E\\xecx\\xc3\\t\\xbc:\\x03\\xc6\\xf9\\x9a\\xb9\\xe25\\xd7g\"_9\\x1c\\xd9',\n",
       " b'\\x92\\xdd@\\xcd\\x02\\xd7l+\\xf9TT\\xaa\\x84)\\xf5\\xf9\\x12\\xae<\\xa3E \\x06\\xad\\xd2\\xc0\\xf0W\\xc1\\xe2\\xe8\\xbf',\n",
       " b'\\x92\\xdd\\xb2\\xc5(15\\xdc\\x9b*\\x0f;\\xee\"\\x98\\xd4\\x13{\\x00\\xf6/\\xb3)\\x9e\\x1d\\xd3\\t\\xd9\\xebO\\xa6\\xa1',\n",
       " b'\\x92\\xdf\\x17\\xdb\\xdb\\xf8\\xba\\xda\\xa1\\xf0b\\xebc\\xa4\\xc2\\x97\\x86\\xa2\\\\~\\xc5\\xd9\\xfcdT\\x02\\x18\\x8f\\xc1\\xbb\\xa0\\xa6',\n",
       " b'\\x92\\xd6;\\x94\\x87\\x08\\xf8\\xday\\x94\\x81\\x0e\\xc4_Y\\xd0cn*\\xe7\\x88\\xa0\\xf9\\x1a\\x82\\xe3;nM\\x8f_\\xfb',\n",
       " b'\\x92\\xd6\\xc5\\xcb\\x99,\\x9c\\xe6\\xc1\\xbb\\xd0\\x11L\\x97m\\xc4\\xfbd\\xc4~\\xd5dSL\\xe1\\xf20\\x1f\\x92\\x7f\\xc1\\x86',\n",
       " b'\\x92\\xc8%n2\\x0f\\x81B\\x14\\x80y\\\\7\\x08\\xfb5\\n\\x90o\\xee\\xccQ\\xbaS\\xdc\\xaa\\xc0\\xf0\\xab\\x97\\x1c\\xf6',\n",
       " b'\\x92\\xc3[\\x97V\\xb6\\xfd, \\xcf\\x99\\xd0^\\xc1\\x9bM\\x8be+!22+\\x89\\xdf3\\xf4T\\xfb\\xb8\\xa4\\xb4',\n",
       " b'\\x92\\xc5\\xacG\\x0c\\xf1\\xdd:n\\xadUTR:A\\x0f\\x18 f\\x98+r\\xfa\\x8e\\x84L\\xb7\\x80\\xa3\\xfa/}',\n",
       " b'\\x92\\xbd\\xe9\\xda\\x07\\xdb\\xa5\\x92V\\xca\\xa6s\\x17\\xe1\\xf0\\x1b\\x90\\xe0\\xcf\\x0f\\xc5\\x89x\\x84\\x9e?\\x15\\xe2\\xff\\x10\\x80\\xa9',\n",
       " b'\\x92\\xb2\\'\\x93\\x95\\xd1Sh5\\xda\\x99\\x1e\\xbe\\x14\\xd2^\\x08\\xbaM\\x08!@\\xbd\\x14<\\xde\\xcb\\xca\\xb2\\x85\\xc4\"',\n",
       " b'\\x92\\xb3 \\x8b\\xf0\\x9f\\xf6\\xea(\\x04\\xf4)\\xbb\\xa4\\xfeY5}\\x0f\\xef,\\x867\\x8b\\xe3\\xa6\\xd93\\xf48\\x92\\x1e',\n",
       " b'\\x92\\xb3\\xfdu\\xdd\\xa3.B\\x08\\x82d(\\xfb\\n\\xa8\\x0c\\x11\\xac=\\xe6\\x14KJM\\r\\xe8\\x0f\\x87\\x03y\\xb5\\x14']"
      ]
     },
     "execution_count": 341,
     "metadata": {},
     "output_type": "execute_result"
    }
   ],
   "source": [
    "closest20"
   ]
  },
  {
   "attachments": {},
   "cell_type": "markdown",
   "metadata": {},
   "source": [
    "## Peer and Routing Table\n",
    "\n",
    "When looking up a key, find the 20 closest peers to that key (e.g using Binary Trie?)\n",
    "\n",
    "Take the reference host, and check in which bucket the key falls in.\n",
    "\n",
    "_Request_ the key to all peers from this bucket. This operation consists in checking in which bucket the target key would fall in for all _requested_ peers. Taking the union of all these buckets, we select only the 20 closest peers to key (out of 400)\n",
    "\n",
    "The request stop when at least one of these peers is among the 20 closest computed at the begining."
   ]
  },
  {
   "cell_type": "code",
   "execution_count": 342,
   "metadata": {},
   "outputs": [],
   "source": [
    "def n_closest(t: Trie, k: bytes, n: int):\n",
    "    if t.size == 0:\n",
    "        print(\"error nil trie\")\n",
    "        return\n",
    "    closest = t.n_closest_keys(bytes_to_bitstring(k, l=n_buckets), n)\n",
    "    return [bitstring_to_bytes(bs) for bs in closest]\n"
   ]
  },
  {
   "cell_type": "code",
   "execution_count": 343,
   "metadata": {},
   "outputs": [
    {
     "data": {
      "text/plain": [
       "['1011', '0100']"
      ]
     },
     "execution_count": 343,
     "metadata": {},
     "output_type": "execute_result"
    }
   ],
   "source": [
    "t = Trie()\n",
    "t.add(\"0011\")\n",
    "t.add(\"0100\")\n",
    "t.add(\"0110\")\n",
    "t.add(\"1011\")\n",
    "\n",
    "[e for e in t.n_closest_keys(\"1100\", 2)]"
   ]
  },
  {
   "cell_type": "code",
   "execution_count": 344,
   "metadata": {},
   "outputs": [],
   "source": [
    "# making use of peers, trie\n",
    "def n_hop_lookup(peer, key):\n",
    "    closest20 = n_closest(trie, key, repl)\n",
    "\n",
    "    hop = 0\n",
    "    if peer in closest20:\n",
    "        return hop\n",
    "\n",
    "    # 20 closest peers in RT\n",
    "    #bid = log_dist(peer, key)\n",
    "    req_trie = Trie()\n",
    "    bid = log_dist(peer, key)\n",
    "    count = 0\n",
    "\n",
    "    for b in peers[peer]:\n",
    "        count += len(peers[peer][b])\n",
    "    #print(\"count\", count)\n",
    "\n",
    "\n",
    "    if bid in peers[peer] and len(peers[peer][bid]) > 0:\n",
    "        for peer_neighbor in peers[peer][bid]:\n",
    "            req_trie.add(bytes_to_bitstring(peer_neighbor, l=n_buckets))\n",
    "    else:\n",
    "        buckets = list(peers[peer].keys())\n",
    "        found_higher = False\n",
    "        for b in range(bid+1, max(buckets)+1):\n",
    "            if b in buckets and len(peers[peer][b]) > 0:\n",
    "                for peer_neighbor in peers[peer][b]:\n",
    "                    req_trie.add(bytes_to_bitstring(peer_neighbor, l=n_buckets))\n",
    "                    found_higher = True\n",
    "        if not found_higher:\n",
    "            print(\"not found higher\")\n",
    "            for b in range(bid-1, -1, -1):\n",
    "                if b in buckets and len(peers[peer][b]) > 0:\n",
    "                    for peer_neighbor in peers[peer][b]:\n",
    "                        req_trie.add(bytes_to_bitstring(peer_neighbor, l=n_buckets))\n",
    "                    print(\"let's break\")\n",
    "                    break # we are only interested in the closest bucket\n",
    "    req_peers = n_closest(req_trie, key, concurrency)\n",
    "\n",
    "    while True:\n",
    "        hop += 1\n",
    "        #print(\"hop\", hop)\n",
    "        for c in closest20:\n",
    "            if c in req_peers:\n",
    "                return hop\n",
    "\n",
    "        req_trie = Trie()\n",
    "        for p in req_peers:\n",
    "            bid = log_dist(p, key)\n",
    "            #print(bytes_to_bitstring(p))\n",
    "            #print(bytes_to_bitstring(key))\n",
    "            #print(\"bid\", bid)\n",
    "            count = 0\n",
    "\n",
    "            for b in peers[p]:\n",
    "                count += len(peers[p][b])\n",
    "            #print(\"count\", count)\n",
    "            #print(\"peer\", bytes_to_bitstring(peer))\n",
    "            #print(\"key\", bytes_to_bitstring(key))\n",
    "\n",
    "            # new attempt\n",
    "            if bid in peers[p] and len(peers[p][bid]) > 0:\n",
    "                for peer_neighbor in peers[p][bid]:\n",
    "                    req_trie.add(bytes_to_bitstring(peer_neighbor, l=n_buckets))\n",
    "            else:\n",
    "                buckets = list(peers[p].keys())\n",
    "                found_higher = False\n",
    "                for b in range(bid+1, max(buckets)+1):\n",
    "                    if b in buckets and len(peers[p][b]) > 0:\n",
    "                        for peer_neighbor in peers[p][b]:\n",
    "                            req_trie.add(bytes_to_bitstring(peer_neighbor, l=n_buckets))\n",
    "                            found_higher = True\n",
    "                if not found_higher:\n",
    "                    for b in range(bid-1, -1, -1):\n",
    "                        if b in buckets and len(peers[p][b]) > 0:\n",
    "                            for peer_neighbor in peers[p][b]:\n",
    "                                req_trie.add(bytes_to_bitstring(peer_neighbor, l=n_buckets))\n",
    "                            break # we are only interested in the closest bucket\n",
    "                    \n",
    "\n",
    "\n",
    "            \"\"\"\n",
    "            # first check bucket, then bucket+ and finally bucket\n",
    "            buckets = sorted(list(peers[p].keys()))\n",
    "            i = buckets.index(bucket)\n",
    "            if i == -1:\n",
    "                for \n",
    "            count = 0\n",
    "            max_reached = False\n",
    "            while count<repl and bid>=0:\n",
    "                bid = buckets[i]\n",
    "                if bid in peers[p]:\n",
    "                    for peer_neighbor in peers[p][bid]:\n",
    "                        req_trie.add(bytes_to_bitstring(peer_neighbor, l=n_buckets))\n",
    "                        count += 1\n",
    "\n",
    "                if not max_reached:\n",
    "                    bid += 1\n",
    "\n",
    "            for bid in range(bucket, -1, -1):\n",
    "                #print(bid)\n",
    "                if bid in peers[p]:\n",
    "                    for peer_neighbor in peers[p][bid]:\n",
    "                        req_trie.add(bytes_to_bitstring(peer_neighbor, l=n_buckets))\n",
    "                        count += 1\n",
    "                    #print(count)\n",
    "                    if count >= repl:\n",
    "                        break\n",
    "            \n",
    "            for bid in peers[p]:\n",
    "                print(\"candidates\")\n",
    "                for peer_neighbor in peers[p][bid]:\n",
    "                    req_trie.add(bytes_to_bitstring(peer_neighbor, l=n_buckets))\n",
    "                    print(bytes_to_bitstring(peer_neighbor))\n",
    "                print(\"end candidates\")\n",
    "            \"\"\"\n",
    "        old_best = req_peers[0]\n",
    "        req_peers = n_closest(req_trie, key, 20)\n",
    "\n",
    "        \"\"\"\n",
    "        print(\"old best + new candidates\")\n",
    "        print(bytes_to_bitstring(old_best))\n",
    "        for p in req_peers:\n",
    "            print(bytes_to_bitstring(p))\n",
    "        print(\"end best\")\n",
    "        \"\"\"\n"
   ]
  },
  {
   "cell_type": "code",
   "execution_count": 345,
   "metadata": {},
   "outputs": [
    {
     "name": "stdout",
     "output_type": "stream",
     "text": [
      "key 1100011011110001000110010010000111110111011111111110110111001011100000111110011100001001010111001011111111000110000010100100110100101001010000110001011010100111101000000101011000011010011101000101110011000111001101100001101111000110000111100010110001000100\n",
      "Closest 20\n",
      "1100011011110010011010100000111111111110001011101100000011100011111000110101111111001111010101001101111000101011011001010000101001000111101001001100101000000010010000110100101010010000001011110111101010100110110110011001010011000010000100011110000001010011\n",
      "1100011011110101100100110010101011011011001100101110110011111111000100100100010100110011000111101101010101110010010011010001000100000110100000100100101101100011111010011011111001101010010000010001000111001101010100100100111000111110100110000001000100110010\n",
      "1100011011100111101101011000010011100000100001100110000001011101000010110111010001010101100111001111000101010101101110100100010100110100101101011000000111111100101100110000100010100010001111010010000100111010100111110110000001110000011001010100111100110001\n",
      "1100011011101000010110001001100111011111110000001000101011100001010000100110111101101000101110010101001100101001110110111011000011011000111100011001000111000000100010110010101100000101001110100110011111000011110101000000100010100111001011101100111111001110\n",
      "1100011011101011011011000110100101100000100010000000001100101101101100000100110110011101111011001101010111111001010111011000011110010011100100000010100001010010001101000100100000010000111010101111101111110000010011110101011111011011100111000010101111110000\n",
      "1100011011101110001001111100000111101100110100011111000100110111010000010111111111101001111000100001101110100101100100010001011100100001011000011111110101111000010000011110001010100001110101000110111001101110000001111010010010101110110111001010001010110001\n",
      "1100011011101110011010010001100001101101111101011100111100010100101000000001011011111011001100110000010100100100000101011100111111100100011001010110111100100110101001010000010000000110011011101000011111110001100100000100010111001111001011110000100010000111\n",
      "1100011011010010010111100110001100101100010000110111010101000010100011001000111111010100101010000011011011001111011100111100111010011011001100101110100001100101110000110100001011001110111101011101110100111001011010001101000001010100011110010111111001000001\n",
      "1100011011010010010011110001000000110010100110000111010111010101010111110011111100110111100011111010111100100111100110100111010111010110101011100101001010001001110000100011010101011010110001110101100111001100000000111001111111110000101111001000001000010111\n",
      "1100011011010100110001110010101100000100110010010101001111000011001100100011110011001101101111110100111011100110111110101111000000101111011110100000011010000100100111110000110101110010110011111111101000000011111010001100101001001100111000111000101001011110\n",
      "1100011011010111100011101001010110111111110111111000111011011011110100010100000100101100100010000011001011110000111000100001001100001011001100000010000001111010011100001000100011100111100111111001011110101000011011100111011010101000100001100010111101100111\n",
      "1100011011010110000101110110001101011110101111110010110000010111001101101111011000111000000100110000010001100010100101101001101101001100011100111110000111111110110000010101010100110101010111001101011101011100111110000101011001001100100100110010000101101000\n",
      "1100011011010110010000110011101010010101100110011110000001111101100000000010110010000011101011010110111111011100111000100111000001000101001000000000011101110001110010110110100011011111110001111001000111100011011100001010111101010111100011100110010011111100\n",
      "1100011011011011111001100110100100100011001011011110001110001110101110110011001100110100101000110100011101101011001011001100010101011000100010110011111000100100100010000001111011110100010010000101010000101110111101000110110000100100100001010001011001110010\n",
      "1100011011000001000100000011000011010100101110001011010001111010101101001100000010111010110101011101001010100111101101101010010011001101111110100100001101100011100010111111111000111001001010111010000111000101101011001001001001111010001101011110010111011001\n",
      "1100011011000011001010000000010101111001011111001100000100101101111101010010111101100101111110010101101101101001001110111010011001100011010100100000001011010111010110001101011110000011011100000000011110110001110111111101101111001000110001111111100010111101\n",
      "1100011011000011011011111100110101101111000010101011111000011000010010001101101110000111101111011110011000101001010011001000111100010101000100111000110011110101101011111000101111011000101100110111010001101001011100110011100010010000101110100000101011010001\n",
      "1100011011000100101111110000000010001111010011010111100111010010110010011111001111100110110010001010011011100111001000101110111101110111101000111111111000111110010000100011000110011001101110101110000101011100011111100101100110011101111111101101010011011001\n",
      "1100011011000111111101011011111111010010010010110101111001111000000110101110100101101000010001001001100010110011000000111010101110111100011110010001111000000001001101010011010110010001010111111010000001010101101101100111111100011000001110001101001110010011\n",
      "1100011011000110011100001100111001100101110001110101000101110110111001011010111101111010000010011110101111011111001111111000110111000100010011101101001000110011111001001001010101011110010100010011111100011011001000100100100000101100011110111111110001100000\n"
     ]
    }
   ],
   "source": [
    "# debug cell\n",
    "key_bs = \"1100011011110001000110010010000111110111011111111110110111001011100000111110011100001001010111001011111111000110000010100100110100101001010000110001011010100111101000000101011000011010011101000101110011000111001101100001101111000110000111100010110001000100\"\n",
    "peer_bs = \"0011101111100111111101011000010111100110000111000011101000010000010000100001101101010000010001001001000110001101011011000011001011010010110110100101100111001011010101100001001111110000101011110111111111000111100110000100101111111000000101110001011100111101\"\n",
    "\n",
    "print(\"key\", key_bs)\n",
    "\n",
    "closest = trie.n_closest_keys(key_bs, repl)\n",
    "print(\"Closest 20\")\n",
    "for c in closest:\n",
    "    print(c)\n",
    "\n",
    "for _ in range(1):\n",
    "    res = n_hop_lookup(bitstring_to_bytes(peer_bs), bitstring_to_bytes(key_bs))\n",
    "    #print(res)"
   ]
  },
  {
   "cell_type": "code",
   "execution_count": 346,
   "metadata": {},
   "outputs": [
    {
     "name": "stdout",
     "output_type": "stream",
     "text": [
      "not found higher\n",
      "let's break\n"
     ]
    }
   ],
   "source": [
    "hop_counts = []\n",
    "for i in range(10000):\n",
    "    peer = random.choice(list(peers.keys()))\n",
    "    key = random_key()\n",
    "    n_hop = n_hop_lookup(peer, key)\n",
    "    hop_counts.append(n_hop)"
   ]
  },
  {
   "cell_type": "code",
   "execution_count": 347,
   "metadata": {},
   "outputs": [],
   "source": [
    "occurences = {}\n",
    "for i in hop_counts:\n",
    "    if i not in occurences:\n",
    "        occurences[i] = 1\n",
    "    else:\n",
    "        occurences[i] += 1"
   ]
  },
  {
   "cell_type": "code",
   "execution_count": 348,
   "metadata": {},
   "outputs": [
    {
     "data": {
      "text/plain": [
       "{2: 8455, 1: 1228, 3: 312, 0: 5}"
      ]
     },
     "execution_count": 348,
     "metadata": {},
     "output_type": "execute_result"
    }
   ],
   "source": [
    "occurences"
   ]
  },
  {
   "cell_type": "code",
   "execution_count": 349,
   "metadata": {},
   "outputs": [
    {
     "data": {
      "text/plain": [
       "1.9074"
      ]
     },
     "execution_count": 349,
     "metadata": {},
     "output_type": "execute_result"
    }
   ],
   "source": [
    "avg_current = sum(hop_counts)/len(hop_counts)\n",
    "avg_current"
   ]
  },
  {
   "attachments": {},
   "cell_type": "markdown",
   "metadata": {},
   "source": [
    "# Balanced buckets\n",
    "\n",
    "Note that this isn't the perfect routing table. If the observed peer has 18 reachable peers in one of its buckets, even though more peers would fit, the simulation will only have 18 balanced peers.\n",
    "\n",
    "First try to fill the above layer, and go down if there is space left."
   ]
  },
  {
   "cell_type": "code",
   "execution_count": 350,
   "metadata": {},
   "outputs": [],
   "source": [
    "# return a list of keys\n",
    "def balance_bucket(t: Trie, n: int):\n",
    "    if n == 0 or t is None:\n",
    "        return []\n",
    "    half = math.ceil(n/2)\n",
    "    if t.branch[0] is None or t.branch[1] is None:\n",
    "        return [t.key]\n",
    "    elif t.branch[0].size >= half and t.branch[1].size >= half:\n",
    "        add0, add1 = 0, 0\n",
    "        if n % 2 == 1:\n",
    "            if random.randint(0, 1) == 0:\n",
    "                add0 += 1\n",
    "            else:\n",
    "                add1 += 1\n",
    "        return balance_bucket(t.branch[0], half-add0) + balance_bucket(t.branch[1], half-add1)\n",
    "    elif t.branch[0].size >= half:\n",
    "        b1 = t.branch[1].size\n",
    "        return balance_bucket(t.branch[0], n-b1) + balance_bucket(t.branch[1], b1)\n",
    "    elif t.branch[1].size >= half:\n",
    "        b0 = t.branch[0].size\n",
    "        return balance_bucket(t.branch[0], b0) + balance_bucket(t.branch[1], n-b0)\n",
    "    else:\n",
    "        return t.match_prefix_keys(prefix=\"\")"
   ]
  },
  {
   "cell_type": "code",
   "execution_count": 351,
   "metadata": {},
   "outputs": [
    {
     "name": "stdout",
     "output_type": "stream",
     "text": [
      "['0011', '0111', '1011', '1101']\n"
     ]
    }
   ],
   "source": [
    "trie_test = Trie()\n",
    "nodeIDs = [2, 3, 4, 6, 7, 9, 11, 13]\n",
    "for i in nodeIDs:\n",
    "    trie_test.add(int_to_bitstring(i, 4))\n",
    "\n",
    "print(balance_bucket(trie_test, 4))"
   ]
  },
  {
   "cell_type": "code",
   "execution_count": 352,
   "metadata": {},
   "outputs": [],
   "source": [
    "balanced_peers = {}\n",
    "for peer in peers:\n",
    "    \n",
    "    buckets = {}\n",
    "    for bid in peers[peer]:\n",
    "        n = len(peers[peer][bid])\n",
    "        prefix = bytes_to_bitstring(peer)[:bid]\n",
    "        t = trie.find_trie(key=prefix)\n",
    "        buckets[bid] = [bitstring_to_bytes(k) for k in balance_bucket(t, n)]\n",
    "\n",
    "    balanced_peers[peer] = buckets\n"
   ]
  },
  {
   "cell_type": "code",
   "execution_count": 353,
   "metadata": {},
   "outputs": [
    {
     "data": {
      "text/plain": [
       "True"
      ]
     },
     "execution_count": 353,
     "metadata": {},
     "output_type": "execute_result"
    }
   ],
   "source": [
    "len(peers)==len(balanced_peers)"
   ]
  },
  {
   "cell_type": "code",
   "execution_count": 354,
   "metadata": {},
   "outputs": [],
   "source": [
    "# making use of peers, trie\n",
    "def n_hop_lookup_with_peers(peer, key, peers):\n",
    "    closest20 = n_closest(trie, key, repl)\n",
    "\n",
    "    hop = 0\n",
    "    if peer in closest20:\n",
    "        return hop\n",
    "\n",
    "    req_trie = Trie()\n",
    "    bid = log_dist(peer, key)\n",
    "\n",
    "    if bid in peers[peer] and len(peers[peer][bid]) > 0:\n",
    "        for peer_neighbor in peers[peer][bid]:\n",
    "            req_trie.add(bytes_to_bitstring(peer_neighbor, l=n_buckets))\n",
    "    else:\n",
    "        buckets = list(peers[peer].keys())\n",
    "        found_higher = False\n",
    "        for b in range(bid+1, max(buckets)+1):\n",
    "            if b in buckets and len(peers[peer][b]) > 0:\n",
    "                for peer_neighbor in peers[peer][b]:\n",
    "                    req_trie.add(bytes_to_bitstring(peer_neighbor, l=n_buckets))\n",
    "                    found_higher = True\n",
    "        if not found_higher:\n",
    "            for b in range(bid-1, -1, -1):\n",
    "                if b in buckets and len(peers[peer][b]) > 0:\n",
    "                    for peer_neighbor in peers[peer][b]:\n",
    "                        req_trie.add(bytes_to_bitstring(peer_neighbor, l=n_buckets))\n",
    "                    break # we are only interested in the closest bucket\n",
    "    req_peers = n_closest(req_trie, key, concurrency)\n",
    "\n",
    "    while True:\n",
    "        hop += 1\n",
    "        for c in closest20:\n",
    "            if c in req_peers:\n",
    "                return hop\n",
    "\n",
    "        req_trie = Trie()\n",
    "        for p in req_peers:\n",
    "            bid = log_dist(p, key)\n",
    "\n",
    "            if bid in peers[p] and len(peers[p][bid]) > 0:\n",
    "                for peer_neighbor in peers[p][bid]:\n",
    "                    req_trie.add(bytes_to_bitstring(peer_neighbor, l=n_buckets))\n",
    "            else:\n",
    "                buckets = list(peers[p].keys())\n",
    "                found_higher = False\n",
    "                for b in range(bid+1, max(buckets)+1):\n",
    "                    if b in buckets and len(peers[p][b]) > 0:\n",
    "                        for peer_neighbor in peers[p][b]:\n",
    "                            req_trie.add(bytes_to_bitstring(peer_neighbor, l=n_buckets))\n",
    "                            found_higher = True\n",
    "                if not found_higher:\n",
    "                    for b in range(bid-1, -1, -1):\n",
    "                        if b in buckets and len(peers[p][b]) > 0:\n",
    "                            for peer_neighbor in peers[p][b]:\n",
    "                                req_trie.add(bytes_to_bitstring(peer_neighbor, l=n_buckets))\n",
    "                            break # we are only interested in the closest bucket\n",
    "                    \n",
    "        req_peers = n_closest(req_trie, key, 20)"
   ]
  },
  {
   "cell_type": "code",
   "execution_count": 355,
   "metadata": {},
   "outputs": [],
   "source": [
    "hop_counts_balanced = []\n",
    "for i in range(10000):\n",
    "    peer = random.choice(list(peers.keys()))\n",
    "    key = random_key()\n",
    "    n_hop = n_hop_lookup_with_peers(peer, key, balanced_peers)\n",
    "    hop_counts_balanced.append(n_hop)"
   ]
  },
  {
   "cell_type": "code",
   "execution_count": 356,
   "metadata": {},
   "outputs": [],
   "source": [
    "occurences = {}\n",
    "for i in hop_counts_balanced:\n",
    "    if i not in occurences:\n",
    "        occurences[i] = 1\n",
    "    else:\n",
    "        occurences[i] += 1"
   ]
  },
  {
   "cell_type": "code",
   "execution_count": 357,
   "metadata": {},
   "outputs": [
    {
     "data": {
      "text/plain": [
       "{2: 8239, 3: 924, 1: 823, 0: 14}"
      ]
     },
     "execution_count": 357,
     "metadata": {},
     "output_type": "execute_result"
    }
   ],
   "source": [
    "occurences"
   ]
  },
  {
   "cell_type": "code",
   "execution_count": 358,
   "metadata": {},
   "outputs": [
    {
     "data": {
      "text/plain": [
       "2.0073"
      ]
     },
     "execution_count": 358,
     "metadata": {},
     "output_type": "execute_result"
    }
   ],
   "source": [
    "avg_balanced = sum(hop_counts_balanced)/len(hop_counts_balanced)\n",
    "avg_balanced"
   ]
  },
  {
   "cell_type": "code",
   "execution_count": 359,
   "metadata": {},
   "outputs": [
    {
     "name": "stdout",
     "output_type": "stream",
     "text": [
      "Average current buckets 1.9074\n",
      "Average balanced buckets 2.0073\n",
      "0.0497683455387834\n"
     ]
    }
   ],
   "source": [
    "print(\"Average current buckets\", avg_current)\n",
    "print(\"Average balanced buckets\", avg_balanced)\n",
    "print(1-avg_current/avg_balanced)"
   ]
  },
  {
   "attachments": {},
   "cell_type": "markdown",
   "metadata": {},
   "source": [
    "## Results\n",
    "\n",
    "Balanced buckets appear to have on average 5% more hops than unbalanced ones. Maybe nodes that are in many other's RT have a well furnished RT themselves. However, when nodes are selected randomly to "
   ]
  },
  {
   "attachments": {},
   "cell_type": "markdown",
   "metadata": {},
   "source": [
    "# Random setting simulation\n",
    "\n",
    "The following experiment doesn't take as input the state of the network gathered by Nebula. It is solely a theoretical simulation."
   ]
  },
  {
   "cell_type": "code",
   "execution_count": null,
   "metadata": {},
   "outputs": [],
   "source": [
    "peers_number = 25000\n",
    "sim_concurrency = 10\n",
    "sim_repl = 20\n",
    "bucket_size = 20"
   ]
  },
  {
   "cell_type": "code",
   "execution_count": null,
   "metadata": {},
   "outputs": [],
   "source": []
  },
  {
   "attachments": {},
   "cell_type": "markdown",
   "metadata": {},
   "source": [
    "# Balanced buckets don't seem to work (at least for high id buckets)"
   ]
  },
  {
   "cell_type": "code",
   "execution_count": 291,
   "metadata": {},
   "outputs": [],
   "source": [
    "sim_trie = Trie()\n",
    "sim_peers = []\n",
    "\n",
    "sim_peers_random = {}\n",
    "sim_peers_balanced = {}\n",
    "\n",
    "for _ in range(peers_number):\n",
    "    peerid = random_key()\n",
    "    sim_peers.append(peerid)\n",
    "    sim_trie.add(bytes_to_bitstring(peerid))\n",
    "\n",
    "    sim_peers_random[peerid] = {}\n",
    "    sim_peers_balanced[peerid] = {}\n",
    "\n",
    "\n",
    "for bid in range(20):\n",
    "    for i in range(2**(bid+1)):\n",
    "        candidate_prefix = int_to_bitstring(i, bid+1)\n",
    "        candidates = sim_trie.match_prefix_keys(candidate_prefix)\n",
    "\n",
    "        # flip last bit\n",
    "        target_prefix = candidate_prefix[:-1]\n",
    "        if candidate_prefix[-1] == \"0\":\n",
    "            target_prefix += \"1\"\n",
    "        else:\n",
    "            target_prefix += \"0\"\n",
    "\n",
    "        targets = sim_trie.match_prefix_keys(target_prefix)\n",
    "\n",
    "        subtrie_root = sim_trie.find_trie(candidate_prefix)\n",
    "\n",
    "        for t in targets:\n",
    "            # set random buckets\n",
    "            random_bucket = [bitstring_to_bytes(p) for p in random.sample(candidates, min(bucket_size, len(candidates)))]\n",
    "            sim_peers_random[bitstring_to_bytes(t)][bid] = random_bucket\n",
    "            # set balanced buckets\n",
    "            if subtrie_root is None:\n",
    "                balanced_bucket = [bitstring_to_bytes(p) for p in balance_bucket(subtrie_root, bucket_size)]\n",
    "                sim_peers_balanced[bitstring_to_bytes(t)][bid] = balanced_bucket\n",
    "\n",
    "        \n"
   ]
  },
  {
   "cell_type": "code",
   "execution_count": 315,
   "metadata": {},
   "outputs": [],
   "source": [
    "sim_peers_balanced = {}\n",
    "\n",
    "for peer in sim_peers:\n",
    "    \n",
    "    buckets = {}\n",
    "    for bid in range(20):\n",
    "        prefix = bytes_to_bitstring(peer)[:bid]\n",
    "        t = sim_trie.find_trie(key=prefix)\n",
    "        buckets[bid] = [bitstring_to_bytes(k) for k in balance_bucket(t, bucket_size)]\n",
    "\n",
    "    sim_peers_balanced[peer] = buckets\n"
   ]
  },
  {
   "cell_type": "code",
   "execution_count": null,
   "metadata": {},
   "outputs": [],
   "source": [
    "sim_peers_random"
   ]
  },
  {
   "cell_type": "code",
   "execution_count": 313,
   "metadata": {},
   "outputs": [],
   "source": [
    "# making use of peers, trie\n",
    "def n_hop_lookup_with_peers_and_trie(peer, key, peers, trie):\n",
    "    closest20 = n_closest(trie, key, repl)\n",
    "\n",
    "    hop = 0\n",
    "    if peer in closest20:\n",
    "        return hop\n",
    "\n",
    "    req_trie = Trie()\n",
    "    bid = log_dist(peer, key)\n",
    "\n",
    "    if bid in peers[peer] and len(peers[peer][bid]) > 0:\n",
    "        for peer_neighbor in peers[peer][bid]:\n",
    "            req_trie.add(bytes_to_bitstring(peer_neighbor, l=n_buckets))\n",
    "    else:\n",
    "        buckets = list(peers[peer].keys())\n",
    "        found_higher = False\n",
    "        for b in range(bid+1, max(buckets)+1):\n",
    "            if b in buckets and len(peers[peer][b]) > 0:\n",
    "                for peer_neighbor in peers[peer][b]:\n",
    "                    req_trie.add(bytes_to_bitstring(peer_neighbor, l=n_buckets))\n",
    "                    found_higher = True\n",
    "        if not found_higher:\n",
    "            for b in range(bid-1, -1, -1):\n",
    "                if b in buckets and len(peers[peer][b]) > 0:\n",
    "                    for peer_neighbor in peers[peer][b]:\n",
    "                        req_trie.add(bytes_to_bitstring(peer_neighbor, l=n_buckets))\n",
    "                    break # we are only interested in the closest bucket\n",
    "    if req_trie.size == 0:\n",
    "        print(peers[peer])\n",
    "        print(\"empty trie\")\n",
    "    req_peers = n_closest(req_trie, key, concurrency)\n",
    "\n",
    "    while True:\n",
    "        hop += 1\n",
    "        for c in closest20:\n",
    "            if c in req_peers:\n",
    "                return hop\n",
    "\n",
    "        req_trie = Trie()\n",
    "        for p in req_peers:\n",
    "            bid = log_dist(p, key)\n",
    "\n",
    "            if bid in peers[p] and len(peers[p][bid]) > 0:\n",
    "                for peer_neighbor in peers[p][bid]:\n",
    "                    req_trie.add(bytes_to_bitstring(peer_neighbor, l=n_buckets))\n",
    "            else:\n",
    "                buckets = list(peers[p].keys())\n",
    "                found_higher = False\n",
    "                for b in range(bid+1, max(buckets)+1):\n",
    "                    if b in buckets and len(peers[p][b]) > 0:\n",
    "                        for peer_neighbor in peers[p][b]:\n",
    "                            req_trie.add(bytes_to_bitstring(peer_neighbor, l=n_buckets))\n",
    "                            found_higher = True\n",
    "                if not found_higher:\n",
    "                    for b in range(bid-1, -1, -1):\n",
    "                        if b in buckets and len(peers[p][b]) > 0:\n",
    "                            for peer_neighbor in peers[p][b]:\n",
    "                                req_trie.add(bytes_to_bitstring(peer_neighbor, l=n_buckets))\n",
    "                            break # we are only interested in the closest bucket\n",
    "                    \n",
    "        req_peers = n_closest(req_trie, key, 20)"
   ]
  },
  {
   "cell_type": "code",
   "execution_count": 301,
   "metadata": {},
   "outputs": [],
   "source": [
    "sim_random_hop_count = []\n",
    "for i in range(10000):\n",
    "    peer = random.choice(sim_peers)\n",
    "    key = random_key()\n",
    "    n_hop = n_hop_lookup_with_peers_and_trie(peer, key, sim_peers_random, sim_trie)\n",
    "    sim_random_hop_count.append(n_hop)\n"
   ]
  },
  {
   "cell_type": "code",
   "execution_count": 302,
   "metadata": {},
   "outputs": [
    {
     "data": {
      "text/plain": [
       "1.9352"
      ]
     },
     "execution_count": 302,
     "metadata": {},
     "output_type": "execute_result"
    }
   ],
   "source": [
    "sim_avg_random = sum(sim_random_hop_count)/len(sim_random_hop_count)\n",
    "sim_avg_random"
   ]
  },
  {
   "cell_type": "code",
   "execution_count": 316,
   "metadata": {},
   "outputs": [],
   "source": [
    "sim_balanced_hop_count = []\n",
    "for i in range(10000):\n",
    "    peer = random.choice(sim_peers)\n",
    "    key = random_key()\n",
    "    n_hop = n_hop_lookup_with_peers_and_trie(peer, key, sim_peers_balanced, sim_trie)\n",
    "    sim_balanced_hop_count.append(n_hop)"
   ]
  },
  {
   "cell_type": "code",
   "execution_count": 318,
   "metadata": {},
   "outputs": [
    {
     "data": {
      "text/plain": [
       "2.0866"
      ]
     },
     "execution_count": 318,
     "metadata": {},
     "output_type": "execute_result"
    }
   ],
   "source": [
    "sim_avg_balanced = sum(sim_balanced_hop_count)/len(sim_balanced_hop_count)\n",
    "sim_avg_balanced"
   ]
  },
  {
   "cell_type": "code",
   "execution_count": 326,
   "metadata": {},
   "outputs": [
    {
     "name": "stdout",
     "output_type": "stream",
     "text": [
      "Average random buckets 1.9352\n",
      "Average balanced buckets 2.0866\n",
      "0.07255822869740236\n"
     ]
    }
   ],
   "source": [
    "print(\"Average random buckets\", sim_avg_random)\n",
    "print(\"Average balanced buckets\", sim_avg_balanced)\n",
    "print(1-sim_avg_random/sim_avg_balanced)"
   ]
  },
  {
   "cell_type": "code",
   "execution_count": 325,
   "metadata": {},
   "outputs": [
    {
     "name": "stdout",
     "output_type": "stream",
     "text": [
      "0111101000000101100101100011100010000110011110101001011111001111000001010111110111111011101010000011110000101011001100101100000101000010011111010010010100010101000110011110010110110011011100000100101100001010111000101100001100010010000011100010001101111011\n",
      "0111101000100011110101011110011110111001010011100110011110101011111001100110100101011111010100111000010010011111101100001001111110010001110000111011111110100100010001111001101001010110110010000001001010011100001000111011011010111100101111100010000011100100\n",
      "0111101000111101110010101010111111011110100100110011100000100111000011010101011110011101111010101100110100001000100111011101011000101011100110101101111001011101101010111011100111101001010111010000110010011100110101100001000010001110011110000010111001111001\n",
      "0111101001011011100011011111001110111001100111110011010100001001111001111110100101100000110011010101111111100100110100001001110101010110111101010111011111000101100101011101010111000110111110001100010101010101011011011110010101110011000111000100101000110000\n",
      "0111101001101100010100001001100100011101110100100111101011100101110101111111110010100000011011010000001010010010011000110101011110101100101110001111001101001010111110010011011111011110111001101111110011111001010000100101101100111110110100110101100101000111\n",
      "0111101010000110010111001101110000100111000011010100010100110000001111000011111011111101110011111111010010100010000100100101101001010111111000010010100100010011001110001001100100011011111101111101011110000101111101001100101011000001100011011111111110111001\n",
      "0111101010011110110001011001110000011000110110010001000100011001000111101001101100010010011101100101101001101110001111101110111101110010010111011100000011111011110010010100100111000100011110110001111000101111000110010101010010110011110110010110100110001011\n",
      "0111101010101111110001011010111110000111101001101100100101110000010110110010101010100111101001101000011000001110110111111100001011010110000000010111101001001010101010110000100111010010010101100101000110001100000000001000001011000101011000101100000011111000\n",
      "0111101011010010011001000001001101011001000101000011010101001010010010100001010111011100001111001010111010100100110000001100111000101110110101000000111101001010100100001100100001101101110011010011100011101011101101110010000011100011111010000000110110111110\n",
      "0111101011111101101110111010000110110110100100010101111100001110001000010001010011110011101100011111111100010101100010110001100101100111111001111010110000011111111110000101100100100100011101100000001011110100000101101000000001100101110101001101001011010001\n",
      "0111101100001000101000111110111000010001000000110010110001110110111011011110011111000010111110101101010001010100000101100111001011011001010101000110100001100010000110000111011011011011111010001010010110101100100101101010001001011101101111100000001100111110\n",
      "0111101100100000001010000011101101001000011010010011101111001111111011001100001110000001111011100100110100000111011111010110011010100111111010011001101010010101101000000111100100110101010111110100010100111100110111000010010111011100011110110100110000010100\n",
      "0111101101000100010100000011101110111000101111101010001011100101010011110100010101001001000100111111000101101011010111111110101000101010000100001111001010001100101101101101110101001111010100000100010101101000100011110111110001110101011111001111001100010111\n",
      "0111101101010010001010011001100100110011011011010110110011000111110111110001000110100011110010010011100111100111011101100101000001001101100101100100010000011001110011010010100100101000101010001001100001011110000110101100000001001001011110110101001010010101\n",
      "0111101101110010101110100100010001010101111000111101100101001101000001011111000111101100010100100100100010010110010100011101110010001010111011011101100011011100000011100101110011000001001110011010001100101010101110010010000101000100110111000001101101010110\n",
      "0111101110010000110111001110110101010100011001111110000111000010000100111000101000111110100000101110001100100010001110101000111011010001100101001101101101100000010110110001100101101000111100011101100000010101010100010100000010111001000010000111111010100011\n",
      "0111101110101100100000011100011010100001001111100111100000000100000000001000001001101100000101111101100101011111011110110110110100000001000011011011010010001101001100111000010010011111100000110101100110100000000011010011011011111101011101000000011101011110\n",
      "0111101111000010000100110101000101110011000010001000100110101001111101100000100001100000000101010000110011011100110001010110000001100110000110011111000101111101000101000101111000011110000001001100111001101010100110010110010110111010101011100011100010101011\n",
      "0111101111101110011001001011001011010111010100100000001001001101101101110010000000010110100010001111100111001101111110001110010100011000011011010001101100000001100011010100101101110100000011111010010111000011101010100100111101101000101001100100010000100000\n",
      "0111101111110011000100100111101101001010101011100101010100001101011011100100000010100010101010000110111101011011101110100000000100011101101011010110010111100011110010011000110000111111111111010000111000011101100100000010101000001111110001001111000100000100\n"
     ]
    }
   ],
   "source": [
    "#print(bytes_to_bitstring(sim_peers[0]))\n",
    "peer = sim_peers_balanced[bitstring_to_bytes(\"0111101001101001000010100111110010111100000111010100101010010010101011110011011011110100001110110100100110001010111000111001000011011111011101011100000111101100010011010101001001100000101011100111011110100111110110000001001011001000110011000100100101111110\")]\n",
    "for p in peer[7]:\n",
    "    print(bytes_to_bitstring(p))\n",
    "\n",
    "# this result is expected"
   ]
  },
  {
   "attachments": {},
   "cell_type": "markdown",
   "metadata": {},
   "source": [
    "# Explanation\n",
    "\n",
    "Having balanced buckets seems to imply more hops on average, which can seem counter-intuitive at the first glance.\n",
    "\n",
    "However selecting a random node among those fitting the bucket will on average respect the representation inside the subtrie. As the trie itself is unbalanced, due to random key generation some peers will have a shallower location in the binary trie, and some a deeper. The shallowest nodes will have a larger load compare with the deeper ones. They will also be easier to find with lookup requests. The nodes that are deeper have lees Provider Records allocated, but are harder to reach. When building the bucket associated with an unbalanced trie randomly, statistically there will be more deep peers than shallow peers, we will take the same proportion of peers in both branches of the subtrie. However, when using the balanced strategy, we will take the same number of peers in each branch. This will make reaching deeper buckets harder\n",
    "\n",
    "Conclusion: random is a great load balancer! It performs 7% better than balanced buckets."
   ]
  },
  {
   "cell_type": "code",
   "execution_count": null,
   "metadata": {},
   "outputs": [],
   "source": []
  }
 ],
 "metadata": {
  "kernelspec": {
   "display_name": "Python 3",
   "language": "python",
   "name": "python3"
  },
  "language_info": {
   "codemirror_mode": {
    "name": "ipython",
    "version": 3
   },
   "file_extension": ".py",
   "mimetype": "text/x-python",
   "name": "python",
   "nbconvert_exporter": "python",
   "pygments_lexer": "ipython3",
   "version": "3.10.9"
  },
  "orig_nbformat": 4,
  "vscode": {
   "interpreter": {
    "hash": "e7370f93d1d0cde622a1f8e1c04877d8463912d04d973331ad4851f04de6915a"
   }
  }
 },
 "nbformat": 4,
 "nbformat_minor": 2
}
